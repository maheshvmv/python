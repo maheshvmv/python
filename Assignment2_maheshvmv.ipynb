{
  "nbformat": 4,
  "nbformat_minor": 0,
  "metadata": {
    "colab": {
      "name": "Colab's New Code Editor",
      "provenance": [],
      "collapsed_sections": [],
      "include_colab_link": true
    },
    "kernelspec": {
      "display_name": "Python 3",
      "name": "python3"
    }
  },
  "cells": [
    {
      "cell_type": "markdown",
      "metadata": {
        "id": "view-in-github",
        "colab_type": "text"
      },
      "source": [
        "<a href=\"https://colab.research.google.com/github/maheshvmv/python/blob/master/Assignment2_maheshvmv.ipynb\" target=\"_parent\"><img src=\"https://colab.research.google.com/assets/colab-badge.svg\" alt=\"Open In Colab\"/></a>"
      ]
    },
    {
      "cell_type": "markdown",
      "metadata": {
        "id": "X8NTdBQyJGXX",
        "colab_type": "text"
      },
      "source": [
        "Task 1 :\n",
        "\n",
        "1.1\n",
        "Write a Python Program to implement your own myreduce() function which works exactly like\n",
        "Python's built-in function reduce()"
      ]
    },
    {
      "cell_type": "code",
      "metadata": {
        "id": "vTEfcsm8JMcM",
        "colab_type": "code",
        "colab": {}
      },
      "source": [
        "def myreduce(lst):\n",
        "  tot = 0\n",
        "  for x in lst:\n",
        "    tot = tot + x\n",
        "  print(tot)"
      ],
      "execution_count": 0,
      "outputs": []
    },
    {
      "cell_type": "code",
      "metadata": {
        "id": "vMB33Dnxr8H_",
        "colab_type": "code",
        "colab": {
          "base_uri": "https://localhost:8080/",
          "height": 34
        },
        "outputId": "33535729-d24e-49a6-b809-0b287159ab95"
      },
      "source": [
        "lst = [1,3,5,6,7,8]\n",
        "myreduce(lst)"
      ],
      "execution_count": 108,
      "outputs": [
        {
          "output_type": "stream",
          "text": [
            "30\n"
          ],
          "name": "stdout"
        }
      ]
    },
    {
      "cell_type": "markdown",
      "metadata": {
        "id": "APT9dBtqJdCK",
        "colab_type": "text"
      },
      "source": [
        "1.2\n",
        "Write a Python program to implement your own myfilter() function which works exactly like\n",
        "Python's built-in function filter()"
      ]
    },
    {
      "cell_type": "code",
      "metadata": {
        "id": "ui6GKvndJhMH",
        "colab_type": "code",
        "colab": {}
      },
      "source": [
        "def myfilter(lst):\n",
        "  ret_lst = list()\n",
        "  for x in lst:\n",
        "    if x%2 == 0:\n",
        "      ret_lst.append(x)\n",
        "  print(ret_lst)   "
      ],
      "execution_count": 0,
      "outputs": []
    },
    {
      "cell_type": "code",
      "metadata": {
        "id": "GIkXfq7MsP30",
        "colab_type": "code",
        "colab": {
          "base_uri": "https://localhost:8080/",
          "height": 34
        },
        "outputId": "7c2e52d5-fa80-4852-a65f-8699f072acb3"
      },
      "source": [
        "myfilter(lst)"
      ],
      "execution_count": 110,
      "outputs": [
        {
          "output_type": "stream",
          "text": [
            "[6, 8]\n"
          ],
          "name": "stdout"
        }
      ]
    },
    {
      "cell_type": "markdown",
      "metadata": {
        "id": "-MUdv2DUJh-G",
        "colab_type": "text"
      },
      "source": [
        "2.\n",
        "Implement List comprehensions to produce the following lists.\n",
        "Write List comprehensions to produce the following Lists\n",
        "['A', 'C', 'A', 'D', 'G', 'I', ’L’, ‘ D’]\n",
        "['x', 'xx', 'xxx', 'xxxx', 'y', 'yy', 'yyy', 'yyyy', 'z', 'zz', 'zzz', 'zzzz']\n",
        "['x', 'y', 'z', 'xx', 'yy', 'zz', 'xx', 'yy', 'zz', 'xxxx', 'yyyy', 'zzzz']\n",
        "[[2], [3], [4], [3], [4], [5], [4], [5], [6]]\n",
        "[[2, 3, 4, 5], [3, 4, 5, 6], [4, 5, 6, 7], [5, 6, 7, 8]]\n",
        "[(1, 1), (2, 1), (3, 1), (1, 2), (2, 2), (3, 2), (1, 3), (2, 3), (3, 3)]"
      ]
    },
    {
      "cell_type": "code",
      "metadata": {
        "id": "ldGBFs1gJp17",
        "colab_type": "code",
        "colab": {
          "base_uri": "https://localhost:8080/",
          "height": 34
        },
        "outputId": "23bb5cdb-795e-4d18-d2ba-a089b2b193de"
      },
      "source": [
        "st = 'ACADGILD'\n",
        "d = [x for x in st]\n",
        "print(d)"
      ],
      "execution_count": 111,
      "outputs": [
        {
          "output_type": "stream",
          "text": [
            "['A', 'C', 'A', 'D', 'G', 'I', 'L', 'D']\n"
          ],
          "name": "stdout"
        }
      ]
    },
    {
      "cell_type": "code",
      "metadata": {
        "id": "-9m7pFwVa8dh",
        "colab_type": "code",
        "colab": {
          "base_uri": "https://localhost:8080/",
          "height": 34
        },
        "outputId": "10a24492-07d9-4133-8858-afebdd17f8bc"
      },
      "source": [
        "st1 = ['x','y','z']\n",
        "d1 = [x1*num for x1 in st1 for num in range(1,5)]\n",
        "print(d1)"
      ],
      "execution_count": 64,
      "outputs": [
        {
          "output_type": "stream",
          "text": [
            "['x', 'xx', 'xxx', 'xxxx', 'y', 'yy', 'yyy', 'yyyy', 'z', 'zz', 'zzz', 'zzzz']\n"
          ],
          "name": "stdout"
        }
      ]
    },
    {
      "cell_type": "code",
      "metadata": {
        "id": "OWB-JdYqb5Zq",
        "colab_type": "code",
        "colab": {
          "base_uri": "https://localhost:8080/",
          "height": 34
        },
        "outputId": "c53a5ecb-a5a7-4a6c-945b-09028c17b641"
      },
      "source": [
        "d2 = [x1*num for x1 in range(1,5) for num in st1]\n",
        "print(d2)"
      ],
      "execution_count": 112,
      "outputs": [
        {
          "output_type": "stream",
          "text": [
            "['x', 'y', 'z', 'xx', 'yy', 'zz', 'xxx', 'yyy', 'zzz', 'xxxx', 'yyyy', 'zzzz']\n"
          ],
          "name": "stdout"
        }
      ]
    },
    {
      "cell_type": "code",
      "metadata": {
        "id": "IRVeA9cVb-2B",
        "colab_type": "code",
        "colab": {
          "base_uri": "https://localhost:8080/",
          "height": 34
        },
        "outputId": "d4ab0df4-c95e-49fe-e54e-1c30bd905b3a"
      },
      "source": [
        "lst3 = [2,3,4]\n",
        "d3 = [ [x2+num] for x2 in lst3 for num in range(0,3)]\n",
        "print(d3) "
      ],
      "execution_count": 113,
      "outputs": [
        {
          "output_type": "stream",
          "text": [
            "[[2], [3], [4], [3], [4], [5], [4], [5], [6]]\n"
          ],
          "name": "stdout"
        }
      ]
    },
    {
      "cell_type": "code",
      "metadata": {
        "id": "X9muxXR-cA-6",
        "colab_type": "code",
        "colab": {
          "base_uri": "https://localhost:8080/",
          "height": 34
        },
        "outputId": "a44929b9-694b-4928-c4c2-843b3d30d574"
      },
      "source": [
        "lst4 = [2,3,4,5]\n",
        "d4 = [[x3+num for x3 in range(0,4)] for num in lst4]\n",
        "print(d4) "
      ],
      "execution_count": 114,
      "outputs": [
        {
          "output_type": "stream",
          "text": [
            "[[2, 3, 4, 5], [3, 4, 5, 6], [4, 5, 6, 7], [5, 6, 7, 8]]\n"
          ],
          "name": "stdout"
        }
      ]
    },
    {
      "cell_type": "code",
      "metadata": {
        "id": "TH-BbrPFcEJc",
        "colab_type": "code",
        "colab": {
          "base_uri": "https://localhost:8080/",
          "height": 34
        },
        "outputId": "55d92d99-2b9e-492c-a32e-51af3b1af532"
      },
      "source": [
        "lst5=[1,2,3]\n",
        "d5 = [ (y,x) for x in lst5 for y in lst5]\n",
        "print(d5)"
      ],
      "execution_count": 68,
      "outputs": [
        {
          "output_type": "stream",
          "text": [
            "[(1, 1), (2, 1), (3, 1), (1, 2), (2, 2), (3, 2), (1, 3), (2, 3), (3, 3)]\n"
          ],
          "name": "stdout"
        }
      ]
    },
    {
      "cell_type": "markdown",
      "metadata": {
        "id": "9zJMuHJ2JrYx",
        "colab_type": "text"
      },
      "source": [
        "3.\n",
        "Implement a function longestWord() that takes a list of words and returns the longest one."
      ]
    },
    {
      "cell_type": "code",
      "metadata": {
        "id": "ECyKr_3nJuvd",
        "colab_type": "code",
        "colab": {}
      },
      "source": [
        "def longestWord(lst1):\n",
        "  max_len = 0\n",
        "  long_word = ''\n",
        "  for y in lst1:\n",
        "    if len(y) > max_len:\n",
        "      long_word = y\n",
        "      max_len = len(y)\n",
        "  print(long_word)\n"
      ],
      "execution_count": 0,
      "outputs": []
    },
    {
      "cell_type": "code",
      "metadata": {
        "id": "FFryo0e8sgNi",
        "colab_type": "code",
        "colab": {
          "base_uri": "https://localhost:8080/",
          "height": 34
        },
        "outputId": "1faf7c02-5325-45e1-b951-8b61df44115f"
      },
      "source": [
        "lst1 = ['a','test','small','big','highest']\n",
        "longestWord(lst1)"
      ],
      "execution_count": 116,
      "outputs": [
        {
          "output_type": "stream",
          "text": [
            "highest\n"
          ],
          "name": "stdout"
        }
      ]
    },
    {
      "cell_type": "markdown",
      "metadata": {
        "id": "2GFqXTYZJzdS",
        "colab_type": "text"
      },
      "source": [
        "Task 2:\n",
        "\n",
        "1.1\n",
        "Write a Python Program(with class concepts) to find the area of the triangle using the below\n",
        "formula.\n",
        "area = (s*(s-a)*(s-b)*(s-c)) ** 0.5\n",
        "Function to take the length of the sides of triangle from user should be defined in the parent\n",
        "class and function to calculate the area should be defined in subclass."
      ]
    },
    {
      "cell_type": "code",
      "metadata": {
        "id": "TAjPIR2oJ5nv",
        "colab_type": "code",
        "colab": {}
      },
      "source": [
        "class triangle:\n",
        "  def __init__(self,a,b,c):\n",
        "    self.a = a\n",
        "    self.b = b\n",
        "    self.c = c"
      ],
      "execution_count": 0,
      "outputs": []
    },
    {
      "cell_type": "code",
      "metadata": {
        "id": "qOO4onVUkr7-",
        "colab_type": "code",
        "colab": {}
      },
      "source": [
        "class area_tr(triangle):\n",
        "  def __init__(self,*args):\n",
        "    super(area_tr,self).__init__(*args)\n",
        "    #self.nbr = nbr\n",
        "    s = (self.a+self.b+self.c)*0.5\n",
        "    ar = (s*(s-self.a)*(s-self.b)*(s-self.c))**0.5\n",
        "    print(ar)"
      ],
      "execution_count": 0,
      "outputs": []
    },
    {
      "cell_type": "code",
      "metadata": {
        "id": "0YMHsb9gkvkt",
        "colab_type": "code",
        "colab": {
          "base_uri": "https://localhost:8080/",
          "height": 34
        },
        "outputId": "bae0bbb0-b503-43c0-be82-6b0919f78caf"
      },
      "source": [
        "area = area_tr(4,13,15)"
      ],
      "execution_count": 119,
      "outputs": [
        {
          "output_type": "stream",
          "text": [
            "24.0\n"
          ],
          "name": "stdout"
        }
      ]
    },
    {
      "cell_type": "markdown",
      "metadata": {
        "id": "N7rFi-DDJ6eE",
        "colab_type": "text"
      },
      "source": [
        "1.2\n",
        "Write a function filter_long_words() that takes a list of words and an integer n and returns the list\n",
        "of words that are longer than n."
      ]
    },
    {
      "cell_type": "code",
      "metadata": {
        "id": "3nVAxpkUKGJi",
        "colab_type": "code",
        "colab": {}
      },
      "source": [
        "def filter_long_words(lst1,nbr):\n",
        "  return [x for x in lst1 if len(x) > nbr]"
      ],
      "execution_count": 0,
      "outputs": []
    },
    {
      "cell_type": "code",
      "metadata": {
        "id": "2LFmzKwstrnT",
        "colab_type": "code",
        "colab": {
          "base_uri": "https://localhost:8080/",
          "height": 34
        },
        "outputId": "17c53e97-2c8e-4fb4-9168-446c1db11467"
      },
      "source": [
        "filter_long_words(lst1,4)"
      ],
      "execution_count": 121,
      "outputs": [
        {
          "output_type": "execute_result",
          "data": {
            "text/plain": [
              "['small', 'highest']"
            ]
          },
          "metadata": {
            "tags": []
          },
          "execution_count": 121
        }
      ]
    },
    {
      "cell_type": "markdown",
      "metadata": {
        "id": "I19x3ZFSKGgZ",
        "colab_type": "text"
      },
      "source": [
        "2.1\n",
        "Write a Python program using function concept that maps list of words into a list of integers\n",
        "representing the lengths of the corresponding words .\n",
        "Hint: If a list [ ab,cde,erty] is passed on to the python function output should come as [2,3,4]\n",
        "Here 2,3 and 4 are the lengths of the words in the list."
      ]
    },
    {
      "cell_type": "code",
      "metadata": {
        "id": "6nsaqqPsKIRK",
        "colab_type": "code",
        "colab": {}
      },
      "source": [
        "def len_chk(lst1):\n",
        "   return [len(x) for x in lst1]\n",
        "  "
      ],
      "execution_count": 0,
      "outputs": []
    },
    {
      "cell_type": "code",
      "metadata": {
        "id": "E76TrPigvLMm",
        "colab_type": "code",
        "colab": {
          "base_uri": "https://localhost:8080/",
          "height": 34
        },
        "outputId": "a2129d2e-c0e8-4650-cfc4-76a9d990d10a"
      },
      "source": [
        "len_chk(lst1)"
      ],
      "execution_count": 123,
      "outputs": [
        {
          "output_type": "execute_result",
          "data": {
            "text/plain": [
              "[1, 4, 5, 3, 7]"
            ]
          },
          "metadata": {
            "tags": []
          },
          "execution_count": 123
        }
      ]
    },
    {
      "cell_type": "markdown",
      "metadata": {
        "id": "0DPsFdyKKIsr",
        "colab_type": "text"
      },
      "source": [
        "2.2\n",
        "Write a Python function which takes a character (i.e. a string of length 1) and returns True if it is\n",
        "a vowel, False otherwise."
      ]
    },
    {
      "cell_type": "code",
      "metadata": {
        "id": "2J-uOZnRKMcN",
        "colab_type": "code",
        "colab": {}
      },
      "source": [
        "def chk_vowel(a):\n",
        "  vow_list = ['A','E','I','O','U']\n",
        "  for x in vow_list:\n",
        "    if x == a.upper():\n",
        "      return True      \n",
        "  else:\n",
        "      return False"
      ],
      "execution_count": 0,
      "outputs": []
    },
    {
      "cell_type": "code",
      "metadata": {
        "id": "v4sx7bvKvkiZ",
        "colab_type": "code",
        "colab": {
          "base_uri": "https://localhost:8080/",
          "height": 34
        },
        "outputId": "10c83f11-457a-4c3f-99d8-f058308efd97"
      },
      "source": [
        "chk_vowel('e')"
      ],
      "execution_count": 125,
      "outputs": [
        {
          "output_type": "execute_result",
          "data": {
            "text/plain": [
              "True"
            ]
          },
          "metadata": {
            "tags": []
          },
          "execution_count": 125
        }
      ]
    },
    {
      "cell_type": "code",
      "metadata": {
        "id": "-aVxSf4Nvuzo",
        "colab_type": "code",
        "colab": {}
      },
      "source": [
        ""
      ],
      "execution_count": 0,
      "outputs": []
    }
  ]
}