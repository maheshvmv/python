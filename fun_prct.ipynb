{
  "nbformat": 4,
  "nbformat_minor": 0,
  "metadata": {
    "colab": {
      "name": "Colab's New Code Editor",
      "provenance": [],
      "collapsed_sections": [],
      "include_colab_link": true
    },
    "kernelspec": {
      "display_name": "Python 3",
      "name": "python3"
    }
  },
  "cells": [
    {
      "cell_type": "markdown",
      "metadata": {
        "id": "view-in-github",
        "colab_type": "text"
      },
      "source": [
        "<a href=\"https://colab.research.google.com/github/maheshvmv/python/blob/master/fun_prct.ipynb\" target=\"_parent\"><img src=\"https://colab.research.google.com/assets/colab-badge.svg\" alt=\"Open In Colab\"/></a>"
      ]
    },
    {
      "cell_type": "code",
      "metadata": {
        "id": "k7fR3EpGPNR5",
        "colab_type": "code",
        "colab": {}
      },
      "source": [
        "def greeting():\n",
        "  print(\"Hello\")"
      ],
      "execution_count": 0,
      "outputs": []
    },
    {
      "cell_type": "code",
      "metadata": {
        "id": "u1oZiIM6PcZ3",
        "colab_type": "code",
        "outputId": "9a2fa24c-0750-4389-9982-d787041f77ce",
        "colab": {
          "base_uri": "https://localhost:8080/",
          "height": 34
        }
      },
      "source": [
        "greeting()"
      ],
      "execution_count": 0,
      "outputs": [
        {
          "output_type": "stream",
          "text": [
            "Hello\n"
          ],
          "name": "stdout"
        }
      ]
    },
    {
      "cell_type": "code",
      "metadata": {
        "id": "rjI-VODfPegd",
        "colab_type": "code",
        "colab": {}
      },
      "source": [
        "def sum_square(num):\n",
        "  return num**2,num"
      ],
      "execution_count": 0,
      "outputs": []
    },
    {
      "cell_type": "code",
      "metadata": {
        "id": "vwgPoqzNS1N_",
        "colab_type": "code",
        "outputId": "2f044ed3-8826-4680-86f9-a43490b936b4",
        "colab": {
          "base_uri": "https://localhost:8080/",
          "height": 34
        }
      },
      "source": [
        "sum_square(9)"
      ],
      "execution_count": 0,
      "outputs": [
        {
          "output_type": "execute_result",
          "data": {
            "text/plain": [
              "(81, 9)"
            ]
          },
          "metadata": {
            "tags": []
          },
          "execution_count": 22
        }
      ]
    },
    {
      "cell_type": "code",
      "metadata": {
        "id": "I3sDJ6i2S38H",
        "colab_type": "code",
        "colab": {}
      },
      "source": [
        "def evenorodd(num):\n",
        "  if num%2==0:\n",
        "    print(\"Num {} is even\".format(num))\n",
        "  else:\n",
        "    print(\"Num {} is odd\".format(num))\n"
      ],
      "execution_count": 0,
      "outputs": []
    },
    {
      "cell_type": "code",
      "metadata": {
        "id": "Y8yv6rw1WKIB",
        "colab_type": "code",
        "outputId": "661f2a8d-b01e-444b-8e0f-6d7b759af1b8",
        "colab": {
          "base_uri": "https://localhost:8080/",
          "height": 34
        }
      },
      "source": [
        "evenorodd(243)"
      ],
      "execution_count": 0,
      "outputs": [
        {
          "output_type": "stream",
          "text": [
            "Num 243 is odd\n"
          ],
          "name": "stdout"
        }
      ]
    },
    {
      "cell_type": "code",
      "metadata": {
        "id": "qeeQePyHWMi0",
        "colab_type": "code",
        "colab": {}
      },
      "source": [
        "lst=[1,2,3,4,5]\n"
      ],
      "execution_count": 0,
      "outputs": []
    },
    {
      "cell_type": "code",
      "metadata": {
        "id": "UdrQtFTzWx0T",
        "colab_type": "code",
        "colab": {}
      },
      "source": [
        "def gret(name):\n",
        "  print(\"Hi %s\" %name)"
      ],
      "execution_count": 0,
      "outputs": []
    },
    {
      "cell_type": "code",
      "metadata": {
        "id": "_hhPIi0TW24g",
        "colab_type": "code",
        "outputId": "8716d90c-5fee-45bc-e91d-233c03162c08",
        "colab": {
          "base_uri": "https://localhost:8080/",
          "height": 51
        }
      },
      "source": [
        "type(gret(\"Mahesh\"))"
      ],
      "execution_count": 0,
      "outputs": [
        {
          "output_type": "stream",
          "text": [
            "Hi Mahesh\n"
          ],
          "name": "stdout"
        },
        {
          "output_type": "execute_result",
          "data": {
            "text/plain": [
              "NoneType"
            ]
          },
          "metadata": {
            "tags": []
          },
          "execution_count": 38
        }
      ]
    },
    {
      "cell_type": "code",
      "metadata": {
        "id": "s7gW53-9XmLp",
        "colab_type": "code",
        "colab": {}
      },
      "source": [
        "def add_sum(lst):\n",
        "  s=0\n",
        "  for x in lst:\n",
        "    s=s+x\n",
        "  return s"
      ],
      "execution_count": 0,
      "outputs": []
    },
    {
      "cell_type": "code",
      "metadata": {
        "id": "-AdRGPivYSVi",
        "colab_type": "code",
        "outputId": "7c250246-66f3-48e3-8416-4ad0feb642e1",
        "colab": {
          "base_uri": "https://localhost:8080/",
          "height": 34
        }
      },
      "source": [
        "add_sum([1,2,3,4,5])"
      ],
      "execution_count": 0,
      "outputs": [
        {
          "output_type": "execute_result",
          "data": {
            "text/plain": [
              "15"
            ]
          },
          "metadata": {
            "tags": []
          },
          "execution_count": 42
        }
      ]
    },
    {
      "cell_type": "code",
      "metadata": {
        "id": "AA-r3Px6YZYp",
        "colab_type": "code",
        "colab": {}
      },
      "source": [
        "def is_prime(num):\n",
        "  for n in range(2,num):\n",
        "    if num%n == 0:\n",
        "      print(\"not prime\")\n",
        "      break\n",
        "  else:\n",
        "      print(\"It is prime\")"
      ],
      "execution_count": 0,
      "outputs": []
    },
    {
      "cell_type": "code",
      "metadata": {
        "id": "OFkoVl5FZhX5",
        "colab_type": "code",
        "outputId": "097547c8-9618-4f0e-f5c8-489b08e6b5d9",
        "colab": {
          "base_uri": "https://localhost:8080/",
          "height": 34
        }
      },
      "source": [
        "is_prime(43456553)"
      ],
      "execution_count": 0,
      "outputs": [
        {
          "output_type": "stream",
          "text": [
            "not prime\n"
          ],
          "name": "stdout"
        }
      ]
    },
    {
      "cell_type": "markdown",
      "metadata": {
        "id": "n9vmZ6IHgzoV",
        "colab_type": "text"
      },
      "source": [
        "**Iterators**"
      ]
    },
    {
      "cell_type": "code",
      "metadata": {
        "id": "luHOIZTLg1ix",
        "colab_type": "code",
        "outputId": "5275e127-dcea-4018-9508-d3f86d938a7a",
        "colab": {
          "base_uri": "https://localhost:8080/",
          "height": 34
        }
      },
      "source": [
        "lst = [1,2,3,4]\n",
        "lst"
      ],
      "execution_count": 0,
      "outputs": [
        {
          "output_type": "execute_result",
          "data": {
            "text/plain": [
              "[1, 2, 3, 4]"
            ]
          },
          "metadata": {
            "tags": []
          },
          "execution_count": 57
        }
      ]
    },
    {
      "cell_type": "code",
      "metadata": {
        "id": "o0lE7BIbZj_W",
        "colab_type": "code",
        "outputId": "1b165a4b-e067-4dd2-f1f7-8ae508d94a01",
        "colab": {
          "base_uri": "https://localhost:8080/",
          "height": 34
        }
      },
      "source": [
        "lst.__iter__()"
      ],
      "execution_count": 0,
      "outputs": [
        {
          "output_type": "execute_result",
          "data": {
            "text/plain": [
              "<list_iterator at 0x7fa842dfd0f0>"
            ]
          },
          "metadata": {
            "tags": []
          },
          "execution_count": 62
        }
      ]
    },
    {
      "cell_type": "code",
      "metadata": {
        "id": "AElHVOlkhTCC",
        "colab_type": "code",
        "outputId": "2c950afa-9635-4715-e926-ddae79ccde65",
        "colab": {
          "base_uri": "https://localhost:8080/",
          "height": 34
        }
      },
      "source": [
        "i_lst = lst.__iter__()\n",
        "\n"
      ],
      "execution_count": 0,
      "outputs": [
        {
          "output_type": "execute_result",
          "data": {
            "text/plain": [
              "<list_iterator at 0x7fa842dfde80>"
            ]
          },
          "metadata": {
            "tags": []
          },
          "execution_count": 64
        }
      ]
    },
    {
      "cell_type": "code",
      "metadata": {
        "id": "Rs1mdrduhkcM",
        "colab_type": "code",
        "outputId": "1989ce88-df46-44f1-ac97-4de52b2a684b",
        "colab": {
          "base_uri": "https://localhost:8080/",
          "height": 163
        }
      },
      "source": [
        "next(i_lst)"
      ],
      "execution_count": 0,
      "outputs": [
        {
          "output_type": "error",
          "ename": "StopIteration",
          "evalue": "ignored",
          "traceback": [
            "\u001b[0;31m---------------------------------------------------------------------------\u001b[0m",
            "\u001b[0;31mStopIteration\u001b[0m                             Traceback (most recent call last)",
            "\u001b[0;32m<ipython-input-69-7ff487048327>\u001b[0m in \u001b[0;36m<module>\u001b[0;34m()\u001b[0m\n\u001b[0;32m----> 1\u001b[0;31m \u001b[0mnext\u001b[0m\u001b[0;34m(\u001b[0m\u001b[0mi_lst\u001b[0m\u001b[0;34m)\u001b[0m\u001b[0;34m\u001b[0m\u001b[0;34m\u001b[0m\u001b[0m\n\u001b[0m",
            "\u001b[0;31mStopIteration\u001b[0m: "
          ]
        }
      ]
    },
    {
      "cell_type": "code",
      "metadata": {
        "id": "e5ESn7EdiG4E",
        "colab_type": "code",
        "colab": {}
      },
      "source": [
        "lst1=iter(lst)"
      ],
      "execution_count": 0,
      "outputs": []
    },
    {
      "cell_type": "code",
      "metadata": {
        "id": "ZebcVgQiiXGD",
        "colab_type": "code",
        "outputId": "b3f1dba7-0540-45a7-e69d-5759169ee4a9",
        "colab": {
          "base_uri": "https://localhost:8080/",
          "height": 34
        }
      },
      "source": [
        "next(lst1)"
      ],
      "execution_count": 0,
      "outputs": [
        {
          "output_type": "execute_result",
          "data": {
            "text/plain": [
              "1"
            ]
          },
          "metadata": {
            "tags": []
          },
          "execution_count": 71
        }
      ]
    },
    {
      "cell_type": "markdown",
      "metadata": {
        "id": "eYXFQZp2i59-",
        "colab_type": "text"
      },
      "source": [
        "**Generators**"
      ]
    },
    {
      "cell_type": "code",
      "metadata": {
        "id": "H_nmNaCAibO5",
        "colab_type": "code",
        "colab": {}
      },
      "source": [
        "def num_sqr(nums):\n",
        "  fr=[]\n",
        "  for i in nums:\n",
        "    fr.append(i*i)\n",
        "  return fr\n"
      ],
      "execution_count": 0,
      "outputs": []
    },
    {
      "cell_type": "code",
      "metadata": {
        "id": "TEbIrrGyyFXr",
        "colab_type": "code",
        "outputId": "6ae8f7f4-01a9-4137-9724-aef0d0742cf5",
        "colab": {
          "base_uri": "https://localhost:8080/",
          "height": 34
        }
      },
      "source": [
        "num_sqr([1,2,3])"
      ],
      "execution_count": 0,
      "outputs": [
        {
          "output_type": "execute_result",
          "data": {
            "text/plain": [
              "[1, 4, 9]"
            ]
          },
          "metadata": {
            "tags": []
          },
          "execution_count": 74
        }
      ]
    },
    {
      "cell_type": "code",
      "metadata": {
        "id": "y2x-9sSnyIJg",
        "colab_type": "code",
        "colab": {}
      },
      "source": [
        "def num_sqr(nums):\n",
        "  fr=[]\n",
        "  for i in nums:\n",
        "    yield(i*i)"
      ],
      "execution_count": 0,
      "outputs": []
    },
    {
      "cell_type": "code",
      "metadata": {
        "id": "mZwiTYqbyY5L",
        "colab_type": "code",
        "outputId": "4f67bace-49c2-4f75-802f-6efcbebd15ed",
        "colab": {
          "base_uri": "https://localhost:8080/",
          "height": 34
        }
      },
      "source": [
        "ls=num_sqr([1,2,3])\n",
        "ls"
      ],
      "execution_count": 0,
      "outputs": [
        {
          "output_type": "execute_result",
          "data": {
            "text/plain": [
              "<generator object num_sqr at 0x7fa842e30468>"
            ]
          },
          "metadata": {
            "tags": []
          },
          "execution_count": 83
        }
      ]
    },
    {
      "cell_type": "code",
      "metadata": {
        "id": "i81myFosycNT",
        "colab_type": "code",
        "outputId": "c778b967-4687-4db5-e66b-9023e1e92f0e",
        "colab": {
          "base_uri": "https://localhost:8080/",
          "height": 34
        }
      },
      "source": [
        "next(ls)"
      ],
      "execution_count": 0,
      "outputs": [
        {
          "output_type": "execute_result",
          "data": {
            "text/plain": [
              "4"
            ]
          },
          "metadata": {
            "tags": []
          },
          "execution_count": 79
        }
      ]
    },
    {
      "cell_type": "code",
      "metadata": {
        "id": "N84WLIj6y5rP",
        "colab_type": "code",
        "colab": {}
      },
      "source": [
        "for x in ls:\n",
        "  print(x)"
      ],
      "execution_count": 0,
      "outputs": []
    },
    {
      "cell_type": "markdown",
      "metadata": {
        "id": "2FdmqTWYzinT",
        "colab_type": "text"
      },
      "source": [
        "Iterator will not store any values.once the values are out from iterator there will be no values"
      ]
    },
    {
      "cell_type": "code",
      "metadata": {
        "id": "TjBSYLSB2-gA",
        "colab_type": "code",
        "outputId": "97e4e427-602c-4ff0-bce9-32f81a0c4b5a",
        "colab": {
          "base_uri": "https://localhost:8080/",
          "height": 34
        }
      },
      "source": [
        "l"
      ],
      "execution_count": 0,
      "outputs": [
        {
          "output_type": "execute_result",
          "data": {
            "text/plain": [
              "[1, 2, 3, 4, 5]"
            ]
          },
          "metadata": {
            "tags": []
          },
          "execution_count": 87
        }
      ]
    },
    {
      "cell_type": "markdown",
      "metadata": {
        "id": "coZn0o-Y51Ij",
        "colab_type": "text"
      },
      "source": [
        "**Map()**"
      ]
    },
    {
      "cell_type": "code",
      "metadata": {
        "id": "IHhnkS1h3BsH",
        "colab_type": "code",
        "colab": {}
      },
      "source": [
        "def frh(T):\n",
        "  return ((float(9)/5)*T+32)\n",
        "def cal(T):\n",
        "  return (float(5)/9)*(T-32)  \n",
        "temp = [0,22.5,40,100]"
      ],
      "execution_count": 0,
      "outputs": []
    },
    {
      "cell_type": "code",
      "metadata": {
        "id": "Gl76RZxY6huB",
        "colab_type": "code",
        "outputId": "45df6660-3759-4d5e-e93f-7f4853f553b3",
        "colab": {
          "base_uri": "https://localhost:8080/",
          "height": 34
        }
      },
      "source": [
        "cal(80.6)\n",
        "temp\n"
      ],
      "execution_count": 0,
      "outputs": [
        {
          "output_type": "execute_result",
          "data": {
            "text/plain": [
              "[0, 22, 35, 80]"
            ]
          },
          "metadata": {
            "tags": []
          },
          "execution_count": 123
        }
      ]
    },
    {
      "cell_type": "code",
      "metadata": {
        "id": "gYLCwdN06jnr",
        "colab_type": "code",
        "outputId": "2043ca81-3b54-4f40-e7d3-7eec7dc953f6",
        "colab": {
          "base_uri": "https://localhost:8080/",
          "height": 34
        }
      },
      "source": [
        "type (map(cal, temp))\n",
        "#for x in li:\n",
        " # print(x)"
      ],
      "execution_count": 0,
      "outputs": [
        {
          "output_type": "execute_result",
          "data": {
            "text/plain": [
              "map"
            ]
          },
          "metadata": {
            "tags": []
          },
          "execution_count": 121
        }
      ]
    },
    {
      "cell_type": "code",
      "metadata": {
        "id": "PfTThrD97OJ5",
        "colab_type": "code",
        "outputId": "2cab0c59-2613-4719-f246-9512fe7e96fe",
        "colab": {
          "base_uri": "https://localhost:8080/",
          "height": 34
        }
      },
      "source": [
        "list(map(cal, temp))"
      ],
      "execution_count": 0,
      "outputs": [
        {
          "output_type": "execute_result",
          "data": {
            "text/plain": [
              "[-17.77777777777778, -5.277777777777778, 4.444444444444445, 37.77777777777778]"
            ]
          },
          "metadata": {
            "tags": []
          },
          "execution_count": 164
        }
      ]
    },
    {
      "cell_type": "code",
      "metadata": {
        "id": "WIo9wRoN9lgc",
        "colab_type": "code",
        "outputId": "45adbd77-5a08-4a28-8f3a-5049ff58b761",
        "colab": {
          "base_uri": "https://localhost:8080/",
          "height": 34
        }
      },
      "source": [
        "l1 = [1,2,3]\n",
        "l2 = [4,5,6]\n",
        "res=map(lambda x,y : x+y, l1,l2)\n",
        "print(list(res))"
      ],
      "execution_count": 0,
      "outputs": [
        {
          "output_type": "stream",
          "text": [
            "[5, 7, 9]\n"
          ],
          "name": "stdout"
        }
      ]
    },
    {
      "cell_type": "code",
      "metadata": {
        "id": "zVTRwPwxEadS",
        "colab_type": "code",
        "colab": {}
      },
      "source": [
        "def greet(*args,**kwargs):\n",
        "  print(args)\n",
        "  print(kwargs)"
      ],
      "execution_count": 0,
      "outputs": []
    },
    {
      "cell_type": "code",
      "metadata": {
        "id": "MCtdcvJQXBd5",
        "colab_type": "code",
        "outputId": "ce620300-d5bd-4cbe-9943-255f22845320",
        "colab": {
          "base_uri": "https://localhost:8080/",
          "height": 51
        }
      },
      "source": [
        "greet('Fn','Ln',age=30,dob=1989)"
      ],
      "execution_count": 0,
      "outputs": [
        {
          "output_type": "stream",
          "text": [
            "('Fn', 'Ln')\n",
            "{'age': 30, 'dob': 1989}\n"
          ],
          "name": "stdout"
        }
      ]
    },
    {
      "cell_type": "code",
      "metadata": {
        "id": "tboKzsLnXH12",
        "colab_type": "code",
        "outputId": "82651b5a-4577-46d7-effd-f1a9ae0e90e0",
        "colab": {
          "base_uri": "https://localhost:8080/",
          "height": 51
        }
      },
      "source": [
        "lst = ['Fn', 'Ln']\n",
        "dic = {'age': 30, 'dob': 1989}\n"
      ],
      "execution_count": 0,
      "outputs": [
        {
          "output_type": "stream",
          "text": [
            "(['Fn', 'Ln'], {'age': 30, 'dob': 1989})\n",
            "{}\n"
          ],
          "name": "stdout"
        }
      ]
    },
    {
      "cell_type": "code",
      "metadata": {
        "id": "RXwaChcaYrk4",
        "colab_type": "code",
        "outputId": "35e2b835-512f-4929-9e3e-96223ed69948",
        "colab": {
          "base_uri": "https://localhost:8080/",
          "height": 51
        }
      },
      "source": [
        "greet(*lst,**dic)"
      ],
      "execution_count": 0,
      "outputs": [
        {
          "output_type": "stream",
          "text": [
            "('Fn', 'Ln')\n",
            "{'age': 30, 'dob': 1989}\n"
          ],
          "name": "stdout"
        }
      ]
    },
    {
      "cell_type": "code",
      "metadata": {
        "id": "WmuBfEcrYvs8",
        "colab_type": "code",
        "colab": {}
      },
      "source": [
        "def square(i):\n",
        "  return i*i\n"
      ],
      "execution_count": 0,
      "outputs": []
    },
    {
      "cell_type": "code",
      "metadata": {
        "id": "STrzt1A7Zwts",
        "colab_type": "code",
        "outputId": "b06fa93d-a161-4f8f-8c3d-8173dc07769e",
        "colab": {
          "base_uri": "https://localhost:8080/",
          "height": 34
        }
      },
      "source": [
        "square(5)\n"
      ],
      "execution_count": 0,
      "outputs": [
        {
          "output_type": "execute_result",
          "data": {
            "text/plain": [
              "25"
            ]
          },
          "metadata": {
            "tags": []
          },
          "execution_count": 140
        }
      ]
    },
    {
      "cell_type": "code",
      "metadata": {
        "id": "X9VUMDRpaLyJ",
        "colab_type": "code",
        "colab": {}
      },
      "source": [
        "f = lambda i:i*i"
      ],
      "execution_count": 0,
      "outputs": []
    },
    {
      "cell_type": "code",
      "metadata": {
        "id": "6bI5xAXaaP1i",
        "colab_type": "code",
        "outputId": "dc7585e2-6019-4da1-d473-df09e3783f9d",
        "colab": {
          "base_uri": "https://localhost:8080/",
          "height": 34
        }
      },
      "source": [
        "f(5)"
      ],
      "execution_count": 0,
      "outputs": [
        {
          "output_type": "execute_result",
          "data": {
            "text/plain": [
              "25"
            ]
          },
          "metadata": {
            "tags": []
          },
          "execution_count": 143
        }
      ]
    },
    {
      "cell_type": "code",
      "metadata": {
        "id": "XImVLI9WaW2Q",
        "colab_type": "code",
        "outputId": "be1ece98-4358-4951-cea6-398102e6f675",
        "colab": {
          "base_uri": "https://localhost:8080/",
          "height": 34
        }
      },
      "source": [
        "from functools import reduce\n",
        "lst = [1,2,3,4,5]\n",
        "reduce(lambda x,y:x+y, lst)"
      ],
      "execution_count": 0,
      "outputs": [
        {
          "output_type": "execute_result",
          "data": {
            "text/plain": [
              "1"
            ]
          },
          "metadata": {
            "tags": []
          },
          "execution_count": 174
        }
      ]
    },
    {
      "cell_type": "code",
      "metadata": {
        "id": "3VDbTEtChPFW",
        "colab_type": "code",
        "colab": {}
      },
      "source": [
        "def even_check(num):\n",
        "  if num%2 == 0:\n",
        "    return True"
      ],
      "execution_count": 0,
      "outputs": []
    },
    {
      "cell_type": "code",
      "metadata": {
        "id": "SWSmbDOLjscP",
        "colab_type": "code",
        "outputId": "54b7b133-3bcd-4caf-c908-29557069b53a",
        "colab": {
          "base_uri": "https://localhost:8080/",
          "height": 34
        }
      },
      "source": [
        "list(filter(even_check,lst))\n"
      ],
      "execution_count": 0,
      "outputs": [
        {
          "output_type": "execute_result",
          "data": {
            "text/plain": [
              "[2, 4]"
            ]
          },
          "metadata": {
            "tags": []
          },
          "execution_count": 169
        }
      ]
    },
    {
      "cell_type": "code",
      "metadata": {
        "id": "TuR0n7vxj2gU",
        "colab_type": "code",
        "outputId": "0baf2124-3f9b-4b16-bd35-9a7a7238f9bc",
        "colab": {
          "base_uri": "https://localhost:8080/",
          "height": 34
        }
      },
      "source": [
        "list(filter(lambda x:x%2==0,lst))"
      ],
      "execution_count": 0,
      "outputs": [
        {
          "output_type": "execute_result",
          "data": {
            "text/plain": [
              "[2, 4]"
            ]
          },
          "metadata": {
            "tags": []
          },
          "execution_count": 170
        }
      ]
    },
    {
      "cell_type": "code",
      "metadata": {
        "id": "0ZDdws-ok5AB",
        "colab_type": "code",
        "outputId": "44ab4848-9fd3-4ba2-cd3c-056d58b36bca",
        "colab": {
          "base_uri": "https://localhost:8080/",
          "height": 34
        }
      },
      "source": [
        "list([1,2,3])"
      ],
      "execution_count": 0,
      "outputs": [
        {
          "output_type": "execute_result",
          "data": {
            "text/plain": [
              "[1, 2, 3]"
            ]
          },
          "metadata": {
            "tags": []
          },
          "execution_count": 171
        }
      ]
    },
    {
      "cell_type": "code",
      "metadata": {
        "id": "T4WGcavfmbNg",
        "colab_type": "code",
        "colab": {
          "base_uri": "https://localhost:8080/",
          "height": 34
        },
        "outputId": "99692aa9-034d-4495-8b84-1aa01c0d82eb"
      },
      "source": [
        "print('hi')"
      ],
      "execution_count": 1,
      "outputs": [
        {
          "output_type": "stream",
          "text": [
            "hi\n"
          ],
          "name": "stdout"
        }
      ]
    },
    {
      "cell_type": "code",
      "metadata": {
        "id": "DDW4wMLbV296",
        "colab_type": "code",
        "colab": {}
      },
      "source": [
        ""
      ],
      "execution_count": 0,
      "outputs": []
    }
  ]
}