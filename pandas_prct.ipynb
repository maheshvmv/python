{
  "nbformat": 4,
  "nbformat_minor": 0,
  "metadata": {
    "colab": {
      "name": "Colab's New Code Editor",
      "provenance": [],
      "collapsed_sections": [],
      "include_colab_link": true
    },
    "kernelspec": {
      "display_name": "Python 3",
      "name": "python3"
    }
  },
  "cells": [
    {
      "cell_type": "markdown",
      "metadata": {
        "id": "view-in-github",
        "colab_type": "text"
      },
      "source": [
        "<a href=\"https://colab.research.google.com/github/maheshvmv/python/blob/master/pandas_prct.ipynb\" target=\"_parent\"><img src=\"https://colab.research.google.com/assets/colab-badge.svg\" alt=\"Open In Colab\"/></a>"
      ]
    },
    {
      "cell_type": "markdown",
      "metadata": {
        "id": "SyZitv3yuCN9",
        "colab_type": "text"
      },
      "source": [
        "**Pandas **"
      ]
    },
    {
      "cell_type": "code",
      "metadata": {
        "id": "CqzNfHm0uHxb",
        "colab_type": "code",
        "colab": {}
      },
      "source": [
        "import numpy as np\n",
        "import pandas as pd\n",
        "np.set_printoptions(precision=4)"
      ],
      "execution_count": 0,
      "outputs": []
    },
    {
      "cell_type": "code",
      "metadata": {
        "id": "CjcWPbDDvYcB",
        "colab_type": "code",
        "colab": {
          "base_uri": "https://localhost:8080/",
          "height": 111
        },
        "outputId": "09b1c52d-4164-43ea-e7df-228dd82139d5"
      },
      "source": [
        "import pandas as pd\n",
        "\n",
        "draft1 = pd.read_csv('/content/panda.csv')\n",
        "draft1.head(2)"
      ],
      "execution_count": 67,
      "outputs": [
        {
          "output_type": "execute_result",
          "data": {
            "text/html": [
              "<div>\n",
              "<style scoped>\n",
              "    .dataframe tbody tr th:only-of-type {\n",
              "        vertical-align: middle;\n",
              "    }\n",
              "\n",
              "    .dataframe tbody tr th {\n",
              "        vertical-align: top;\n",
              "    }\n",
              "\n",
              "    .dataframe thead th {\n",
              "        text-align: right;\n",
              "    }\n",
              "</style>\n",
              "<table border=\"1\" class=\"dataframe\">\n",
              "  <thead>\n",
              "    <tr style=\"text-align: right;\">\n",
              "      <th></th>\n",
              "      <th>a</th>\n",
              "      <th>b</th>\n",
              "      <th>c</th>\n",
              "      <th>d</th>\n",
              "      <th>message</th>\n",
              "    </tr>\n",
              "  </thead>\n",
              "  <tbody>\n",
              "    <tr>\n",
              "      <th>0</th>\n",
              "      <td>1</td>\n",
              "      <td>2</td>\n",
              "      <td>3</td>\n",
              "      <td>4</td>\n",
              "      <td>hello</td>\n",
              "    </tr>\n",
              "    <tr>\n",
              "      <th>1</th>\n",
              "      <td>5</td>\n",
              "      <td>6</td>\n",
              "      <td>7</td>\n",
              "      <td>8</td>\n",
              "      <td>world</td>\n",
              "    </tr>\n",
              "  </tbody>\n",
              "</table>\n",
              "</div>"
            ],
            "text/plain": [
              "   a  b  c  d message\n",
              "0  1  2  3  4   hello\n",
              "1  5  6  7  8   world"
            ]
          },
          "metadata": {
            "tags": []
          },
          "execution_count": 67
        }
      ]
    },
    {
      "cell_type": "code",
      "metadata": {
        "id": "lgjlgTsAx6v_",
        "colab_type": "code",
        "colab": {
          "base_uri": "https://localhost:8080/",
          "height": 142
        },
        "outputId": "859bfc08-bbaf-4492-96d5-4071f7a44330"
      },
      "source": [
        "draft2 = pd.read_table('/content/panda.csv',sep=',')\n",
        "draft2.head(10)"
      ],
      "execution_count": 70,
      "outputs": [
        {
          "output_type": "execute_result",
          "data": {
            "text/html": [
              "<div>\n",
              "<style scoped>\n",
              "    .dataframe tbody tr th:only-of-type {\n",
              "        vertical-align: middle;\n",
              "    }\n",
              "\n",
              "    .dataframe tbody tr th {\n",
              "        vertical-align: top;\n",
              "    }\n",
              "\n",
              "    .dataframe thead th {\n",
              "        text-align: right;\n",
              "    }\n",
              "</style>\n",
              "<table border=\"1\" class=\"dataframe\">\n",
              "  <thead>\n",
              "    <tr style=\"text-align: right;\">\n",
              "      <th></th>\n",
              "      <th>a</th>\n",
              "      <th>b</th>\n",
              "      <th>c</th>\n",
              "      <th>d</th>\n",
              "      <th>message</th>\n",
              "    </tr>\n",
              "  </thead>\n",
              "  <tbody>\n",
              "    <tr>\n",
              "      <th>0</th>\n",
              "      <td>1</td>\n",
              "      <td>2</td>\n",
              "      <td>3</td>\n",
              "      <td>4</td>\n",
              "      <td>hello</td>\n",
              "    </tr>\n",
              "    <tr>\n",
              "      <th>1</th>\n",
              "      <td>5</td>\n",
              "      <td>6</td>\n",
              "      <td>7</td>\n",
              "      <td>8</td>\n",
              "      <td>world</td>\n",
              "    </tr>\n",
              "    <tr>\n",
              "      <th>2</th>\n",
              "      <td>9</td>\n",
              "      <td>10</td>\n",
              "      <td>11</td>\n",
              "      <td>12</td>\n",
              "      <td>foo</td>\n",
              "    </tr>\n",
              "  </tbody>\n",
              "</table>\n",
              "</div>"
            ],
            "text/plain": [
              "   a   b   c   d message\n",
              "0  1   2   3   4   hello\n",
              "1  5   6   7   8   world\n",
              "2  9  10  11  12     foo"
            ]
          },
          "metadata": {
            "tags": []
          },
          "execution_count": 70
        }
      ]
    },
    {
      "cell_type": "code",
      "metadata": {
        "id": "TxHc73T1z-9F",
        "colab_type": "code",
        "colab": {
          "base_uri": "https://localhost:8080/",
          "height": 173
        },
        "outputId": "c279d528-b02c-4aec-e7f4-7605ad76807b"
      },
      "source": [
        "\n",
        "draft1 = pd.read_csv('/content/panda.csv', header=None)\n",
        "draft1.head(10)"
      ],
      "execution_count": 75,
      "outputs": [
        {
          "output_type": "execute_result",
          "data": {
            "text/html": [
              "<div>\n",
              "<style scoped>\n",
              "    .dataframe tbody tr th:only-of-type {\n",
              "        vertical-align: middle;\n",
              "    }\n",
              "\n",
              "    .dataframe tbody tr th {\n",
              "        vertical-align: top;\n",
              "    }\n",
              "\n",
              "    .dataframe thead th {\n",
              "        text-align: right;\n",
              "    }\n",
              "</style>\n",
              "<table border=\"1\" class=\"dataframe\">\n",
              "  <thead>\n",
              "    <tr style=\"text-align: right;\">\n",
              "      <th></th>\n",
              "      <th>0</th>\n",
              "      <th>1</th>\n",
              "      <th>2</th>\n",
              "      <th>3</th>\n",
              "      <th>4</th>\n",
              "    </tr>\n",
              "  </thead>\n",
              "  <tbody>\n",
              "    <tr>\n",
              "      <th>0</th>\n",
              "      <td>a</td>\n",
              "      <td>b</td>\n",
              "      <td>c</td>\n",
              "      <td>d</td>\n",
              "      <td>message</td>\n",
              "    </tr>\n",
              "    <tr>\n",
              "      <th>1</th>\n",
              "      <td>1</td>\n",
              "      <td>2</td>\n",
              "      <td>3</td>\n",
              "      <td>4</td>\n",
              "      <td>hello</td>\n",
              "    </tr>\n",
              "    <tr>\n",
              "      <th>2</th>\n",
              "      <td>5</td>\n",
              "      <td>6</td>\n",
              "      <td>7</td>\n",
              "      <td>8</td>\n",
              "      <td>world</td>\n",
              "    </tr>\n",
              "    <tr>\n",
              "      <th>3</th>\n",
              "      <td>9</td>\n",
              "      <td>10</td>\n",
              "      <td>11</td>\n",
              "      <td>12</td>\n",
              "      <td>foo</td>\n",
              "    </tr>\n",
              "  </tbody>\n",
              "</table>\n",
              "</div>"
            ],
            "text/plain": [
              "   0   1   2   3        4\n",
              "0  a   b   c   d  message\n",
              "1  1   2   3   4    hello\n",
              "2  5   6   7   8    world\n",
              "3  9  10  11  12      foo"
            ]
          },
          "metadata": {
            "tags": []
          },
          "execution_count": 75
        }
      ]
    },
    {
      "cell_type": "code",
      "metadata": {
        "id": "8Q1wAHMa0Kmm",
        "colab_type": "code",
        "colab": {}
      },
      "source": [
        "draft1 = pd.read_csv('/content/panda.csv', names=['a1','a2','a3','a4'])"
      ],
      "execution_count": 0,
      "outputs": []
    },
    {
      "cell_type": "code",
      "metadata": {
        "id": "Eh2wr4cQ1bnP",
        "colab_type": "code",
        "colab": {
          "base_uri": "https://localhost:8080/",
          "height": 173
        },
        "outputId": "2514a8f6-2240-4442-d78f-72e94c26a1b5"
      },
      "source": [
        "draft1"
      ],
      "execution_count": 100,
      "outputs": [
        {
          "output_type": "execute_result",
          "data": {
            "text/html": [
              "<div>\n",
              "<style scoped>\n",
              "    .dataframe tbody tr th:only-of-type {\n",
              "        vertical-align: middle;\n",
              "    }\n",
              "\n",
              "    .dataframe tbody tr th {\n",
              "        vertical-align: top;\n",
              "    }\n",
              "\n",
              "    .dataframe thead th {\n",
              "        text-align: right;\n",
              "    }\n",
              "</style>\n",
              "<table border=\"1\" class=\"dataframe\">\n",
              "  <thead>\n",
              "    <tr style=\"text-align: right;\">\n",
              "      <th></th>\n",
              "      <th>a1</th>\n",
              "      <th>a2</th>\n",
              "      <th>a3</th>\n",
              "      <th>a4</th>\n",
              "    </tr>\n",
              "  </thead>\n",
              "  <tbody>\n",
              "    <tr>\n",
              "      <th>a</th>\n",
              "      <td>b</td>\n",
              "      <td>c</td>\n",
              "      <td>d</td>\n",
              "      <td>message</td>\n",
              "    </tr>\n",
              "    <tr>\n",
              "      <th>1</th>\n",
              "      <td>2</td>\n",
              "      <td>3</td>\n",
              "      <td>4</td>\n",
              "      <td>hello</td>\n",
              "    </tr>\n",
              "    <tr>\n",
              "      <th>5</th>\n",
              "      <td>6</td>\n",
              "      <td>7</td>\n",
              "      <td>8</td>\n",
              "      <td>world</td>\n",
              "    </tr>\n",
              "    <tr>\n",
              "      <th>9</th>\n",
              "      <td>10</td>\n",
              "      <td>11</td>\n",
              "      <td>12</td>\n",
              "      <td>foo</td>\n",
              "    </tr>\n",
              "  </tbody>\n",
              "</table>\n",
              "</div>"
            ],
            "text/plain": [
              "   a1  a2  a3       a4\n",
              "a   b   c   d  message\n",
              "1   2   3   4    hello\n",
              "5   6   7   8    world\n",
              "9  10  11  12      foo"
            ]
          },
          "metadata": {
            "tags": []
          },
          "execution_count": 100
        }
      ]
    },
    {
      "cell_type": "code",
      "metadata": {
        "id": "ODl9qHjx1e96",
        "colab_type": "code",
        "colab": {
          "base_uri": "https://localhost:8080/",
          "height": 34
        },
        "outputId": "8d16cb39-10a1-4eeb-ad90-8cd781e1a6fe"
      },
      "source": [
        "type(draft1)"
      ],
      "execution_count": 79,
      "outputs": [
        {
          "output_type": "execute_result",
          "data": {
            "text/plain": [
              "pandas.core.frame.DataFrame"
            ]
          },
          "metadata": {
            "tags": []
          },
          "execution_count": 79
        }
      ]
    },
    {
      "cell_type": "code",
      "metadata": {
        "id": "tzeLKJhk1kBC",
        "colab_type": "code",
        "colab": {
          "base_uri": "https://localhost:8080/",
          "height": 85
        },
        "outputId": "8987078d-a36d-4b00-8046-83a4dc12ac5d"
      },
      "source": [
        "!cat '/content/panda.csv'"
      ],
      "execution_count": 80,
      "outputs": [
        {
          "output_type": "stream",
          "text": [
            "a,b,c,d,message\r\n",
            "1,2,3,4,hello\r\n",
            "5,6,7,8,world\r\n",
            "9,10,11,12,foo\r\n"
          ],
          "name": "stdout"
        }
      ]
    },
    {
      "cell_type": "code",
      "metadata": {
        "id": "NNhl0g441r1g",
        "colab_type": "code",
        "colab": {
          "base_uri": "https://localhost:8080/",
          "height": 1000
        },
        "outputId": "4206dde0-4cf4-4fa9-e20d-b8f6ca386e38"
      },
      "source": [
        "url = 'http://www.espncricinfo.com/rankings/content/page/211271.html'\n",
        "\n",
        "cr_data = pd.read_html(url)\n",
        "\n",
        "cr_data\n"
      ],
      "execution_count": 97,
      "outputs": [
        {
          "output_type": "execute_result",
          "data": {
            "text/plain": [
              "[    Pos          Team  Matches  Points  Rating\n",
              " 0     1         India       39    4659     119\n",
              " 1     2   New Zealand       26    2829     109\n",
              " 2     3       England       42    4366     104\n",
              " 3     4  South Africa       31    3177     102\n",
              " 4     5     Australia       33    3270      99\n",
              " 5     6     Sri Lanka       40    3795      95\n",
              " 6     7      Pakistan       27    2263      84\n",
              " 7     8   West Indies       32    2570      80\n",
              " 8     9    Bangladesh       23    1413      61\n",
              " 9    10   Afghanistan        3     165      55\n",
              " 10   11      Zimbabwe        9     140      16\n",
              " 11   12       Ireland        3       0       0,\n",
              "     Pos          Team  Matches  Points  Rating\n",
              " 0     1       England       54    6745     125\n",
              " 1     2         India       58    7071     122\n",
              " 2     3   New Zealand       42    4709     112\n",
              " 3     4     Australia       50    5543     111\n",
              " 4     5  South Africa       47    5193     110\n",
              " 5     6      Pakistan       51    5019      98\n",
              " 6     7    Bangladesh       46    3963      86\n",
              " 7     8     Sri Lanka       56    4520      81\n",
              " 8     9   West Indies       48    3675      77\n",
              " 9    10   Afghanistan       40    2359      59\n",
              " 10   11       Ireland       29    1466      51\n",
              " 11   12      Zimbabwe       35    1538      44\n",
              " 12   13   Netherlands        6     222      37\n",
              " 13   14      Scotland       15     534      36\n",
              " 14   15       Namibia        8     183      23\n",
              " 15   16          Oman        8     174      22\n",
              " 16   17         Nepal        8     152      19\n",
              " 17   18           USA        8     115      14\n",
              " 18   19           UAE       15     144      10\n",
              " 19   20           PNG       17       0       0,\n",
              "     Pos          Team  Matches  Points  Rating\n",
              " 0     1      Pakistan       29    7935     274\n",
              " 1     2       England       16    4253     266\n",
              " 2     3  South Africa       18    4720     262\n",
              " 3     4     Australia       22    5762     262\n",
              " 4     5         India       33    8620     261\n",
              " ..  ...           ...      ...     ...     ...\n",
              " 81   82        Gambia        6       0       0\n",
              " 82   83     Gibraltar       12       0       0\n",
              " 83   84     Swaziland        6       0       0\n",
              " 84   85        Rwanda        6       0       0\n",
              " 85   86       Lesotho        6       0       0\n",
              " \n",
              " [86 rows x 5 columns],\n",
              "    Pos                Team  Matches  Points  Rating\n",
              " 0    1     Australia Women       25    3784     151\n",
              " 1    2         India Women       27    3441     127\n",
              " 2    3       England Women       27    3303     122\n",
              " 3    4   New Zealand Women       23    2533     110\n",
              " 4    5  South Africa Women       33    3154      96\n",
              " 5    6   West Indies Women       21    1664      79\n",
              " 6    7      Pakistan Women       21    1613      77\n",
              " 7    8     Sri Lanka Women       21    1163      55\n",
              " 8    9    Bangladesh Women        8     387      48\n",
              " 9   10       Ireland Women        6     110      18,\n",
              "     Pos                Team  Matches  Points  Rating\n",
              " 0     1     Australia Women       25    7331     293\n",
              " 1     2       England Women       22    6141     279\n",
              " 2     3   New Zealand Women       18    4963     276\n",
              " 3     4   West Indies Women       22    5682     258\n",
              " 4     5         India Women       28    7046     252\n",
              " 5     6  South Africa Women       24    5776     241\n",
              " 6     7      Pakistan Women       28    6423     229\n",
              " 7     8     Sri Lanka Women       22    4420     201\n",
              " 8     9    Bangladesh Women       27    5233     194\n",
              " 9    10       Ireland Women       22    3622     165\n",
              " 10   11      Thailand Women       41    6582     161\n",
              " 11   12      Zimbabwe Women       20    3153     158\n",
              " 12   13      Scotland Women       19    2759     145\n",
              " 13   14         Nepal Women       17    2181     128\n",
              " 14   15           PNG Women       23    2894     126\n",
              " 15   16           UAE Women       19    2326     122\n",
              " 16   17        Uganda Women       25    3036     121\n",
              " 17   18         Samoa Women       15    1816     121\n",
              " 18   19      Tanzania Women       19    1915     101\n",
              " 19   20         Kenya Women       11    1053      96\n",
              " 20   21   Netherlands Women       19    1640      86\n",
              " 21   22     Indonesia Women       18    1448      80\n",
              " 22   23     Hong Kong Women       25    1841      74\n",
              " 23   24       Namibia Women       30    2103      70\n",
              " 24   25         China Women       23    1554      68\n",
              " 25   26         Japan Women       14     751      54\n",
              " 26   27       Vanuatu Women       15     734      49\n",
              " 27   28      Malaysia Women       27    1183      44\n",
              " 28   29        Rwanda Women       20     851      43\n",
              " 29   30       Myanmar Women       10     424      42\n",
              " 30   31     Argentina Women       14     584      42\n",
              " 31   32           USA Women        9     371      41\n",
              " 32   33        Jersey Women        7     280      40\n",
              " 33   34        Brazil Women       16     624      39\n",
              " 34   35        Kuwait Women        8     309      39\n",
              " 35   36  Sierra Leone Women        8     308      39\n",
              " 36   37        France Women        9     333      37\n",
              " 37   38      Botswana Women       10     368      37\n",
              " 38   39       Germany Women        7     234      33\n",
              " 39   40       Nigeria Women       16     478      30\n",
              " 40   41       Denmark Women        3      85      28\n",
              " 41   42   South Korea Women        9     159      18\n",
              " 42   43        Bhutan Women        6     101      17\n",
              " 43   44         Chile Women       10     121      12\n",
              " 44   45        Malawi Women        3      34      11\n",
              " 45   46    Mozambique Women        9      94      10\n",
              " 46   47        Mexico Women        8      83      10\n",
              " 47   48       Austria Women        6      54       9\n",
              " 48   49       Belgium Women        3      20       7\n",
              " 49   50     Singapore Women       10       6       1\n",
              " 50   51          Peru Women        6      13       2\n",
              " 51   52          Fiji Women       12       0       0\n",
              " 52   53        Norway Women        6       0       0\n",
              " 53   54          Mali Women        6       0       0\n",
              " 54   55       Lesotho Women        3       0       0]"
            ]
          },
          "metadata": {
            "tags": []
          },
          "execution_count": 97
        }
      ]
    },
    {
      "cell_type": "code",
      "metadata": {
        "id": "y4mFpVwPQJVX",
        "colab_type": "code",
        "colab": {
          "base_uri": "https://localhost:8080/",
          "height": 693
        },
        "outputId": "4b18f804-786c-49fd-d125-4f94217796a9"
      },
      "source": [
        "  cr_data[0].ix[:,0:20]"
      ],
      "execution_count": 92,
      "outputs": [
        {
          "output_type": "stream",
          "text": [
            "/usr/local/lib/python3.6/dist-packages/ipykernel_launcher.py:1: FutureWarning: \n",
            ".ix is deprecated. Please use\n",
            ".loc for label based indexing or\n",
            ".iloc for positional indexing\n",
            "\n",
            "See the documentation here:\n",
            "http://pandas.pydata.org/pandas-docs/stable/user_guide/indexing.html#ix-indexer-is-deprecated\n",
            "  \"\"\"Entry point for launching an IPython kernel.\n",
            "/usr/local/lib/python3.6/dist-packages/pandas/core/indexing.py:822: FutureWarning: \n",
            ".ix is deprecated. Please use\n",
            ".loc for label based indexing or\n",
            ".iloc for positional indexing\n",
            "\n",
            "See the documentation here:\n",
            "http://pandas.pydata.org/pandas-docs/stable/user_guide/indexing.html#ix-indexer-is-deprecated\n",
            "  retval = getattr(retval, self.name)._getitem_axis(key, axis=i)\n"
          ],
          "name": "stderr"
        },
        {
          "output_type": "execute_result",
          "data": {
            "text/html": [
              "<div>\n",
              "<style scoped>\n",
              "    .dataframe tbody tr th:only-of-type {\n",
              "        vertical-align: middle;\n",
              "    }\n",
              "\n",
              "    .dataframe tbody tr th {\n",
              "        vertical-align: top;\n",
              "    }\n",
              "\n",
              "    .dataframe thead th {\n",
              "        text-align: right;\n",
              "    }\n",
              "</style>\n",
              "<table border=\"1\" class=\"dataframe\">\n",
              "  <thead>\n",
              "    <tr style=\"text-align: right;\">\n",
              "      <th></th>\n",
              "      <th>Pos</th>\n",
              "      <th>Team</th>\n",
              "      <th>Matches</th>\n",
              "      <th>Points</th>\n",
              "      <th>Rating</th>\n",
              "    </tr>\n",
              "  </thead>\n",
              "  <tbody>\n",
              "    <tr>\n",
              "      <th>0</th>\n",
              "      <td>1</td>\n",
              "      <td>India</td>\n",
              "      <td>39</td>\n",
              "      <td>4659</td>\n",
              "      <td>119</td>\n",
              "    </tr>\n",
              "    <tr>\n",
              "      <th>1</th>\n",
              "      <td>2</td>\n",
              "      <td>New Zealand</td>\n",
              "      <td>26</td>\n",
              "      <td>2829</td>\n",
              "      <td>109</td>\n",
              "    </tr>\n",
              "    <tr>\n",
              "      <th>2</th>\n",
              "      <td>3</td>\n",
              "      <td>England</td>\n",
              "      <td>42</td>\n",
              "      <td>4366</td>\n",
              "      <td>104</td>\n",
              "    </tr>\n",
              "    <tr>\n",
              "      <th>3</th>\n",
              "      <td>4</td>\n",
              "      <td>South Africa</td>\n",
              "      <td>31</td>\n",
              "      <td>3177</td>\n",
              "      <td>102</td>\n",
              "    </tr>\n",
              "    <tr>\n",
              "      <th>4</th>\n",
              "      <td>5</td>\n",
              "      <td>Australia</td>\n",
              "      <td>33</td>\n",
              "      <td>3270</td>\n",
              "      <td>99</td>\n",
              "    </tr>\n",
              "    <tr>\n",
              "      <th>5</th>\n",
              "      <td>6</td>\n",
              "      <td>Sri Lanka</td>\n",
              "      <td>40</td>\n",
              "      <td>3795</td>\n",
              "      <td>95</td>\n",
              "    </tr>\n",
              "    <tr>\n",
              "      <th>6</th>\n",
              "      <td>7</td>\n",
              "      <td>Pakistan</td>\n",
              "      <td>27</td>\n",
              "      <td>2263</td>\n",
              "      <td>84</td>\n",
              "    </tr>\n",
              "    <tr>\n",
              "      <th>7</th>\n",
              "      <td>8</td>\n",
              "      <td>West Indies</td>\n",
              "      <td>32</td>\n",
              "      <td>2570</td>\n",
              "      <td>80</td>\n",
              "    </tr>\n",
              "    <tr>\n",
              "      <th>8</th>\n",
              "      <td>9</td>\n",
              "      <td>Bangladesh</td>\n",
              "      <td>23</td>\n",
              "      <td>1413</td>\n",
              "      <td>61</td>\n",
              "    </tr>\n",
              "    <tr>\n",
              "      <th>9</th>\n",
              "      <td>10</td>\n",
              "      <td>Afghanistan</td>\n",
              "      <td>3</td>\n",
              "      <td>165</td>\n",
              "      <td>55</td>\n",
              "    </tr>\n",
              "    <tr>\n",
              "      <th>10</th>\n",
              "      <td>11</td>\n",
              "      <td>Zimbabwe</td>\n",
              "      <td>9</td>\n",
              "      <td>140</td>\n",
              "      <td>16</td>\n",
              "    </tr>\n",
              "    <tr>\n",
              "      <th>11</th>\n",
              "      <td>12</td>\n",
              "      <td>Ireland</td>\n",
              "      <td>3</td>\n",
              "      <td>0</td>\n",
              "      <td>0</td>\n",
              "    </tr>\n",
              "  </tbody>\n",
              "</table>\n",
              "</div>"
            ],
            "text/plain": [
              "    Pos          Team  Matches  Points  Rating\n",
              "0     1         India       39    4659     119\n",
              "1     2   New Zealand       26    2829     109\n",
              "2     3       England       42    4366     104\n",
              "3     4  South Africa       31    3177     102\n",
              "4     5     Australia       33    3270      99\n",
              "5     6     Sri Lanka       40    3795      95\n",
              "6     7      Pakistan       27    2263      84\n",
              "7     8   West Indies       32    2570      80\n",
              "8     9    Bangladesh       23    1413      61\n",
              "9    10   Afghanistan        3     165      55\n",
              "10   11      Zimbabwe        9     140      16\n",
              "11   12       Ireland        3       0       0"
            ]
          },
          "metadata": {
            "tags": []
          },
          "execution_count": 92
        }
      ]
    },
    {
      "cell_type": "code",
      "metadata": {
        "id": "_elsv8g2QMmR",
        "colab_type": "code",
        "colab": {
          "base_uri": "https://localhost:8080/",
          "height": 163
        },
        "outputId": "01921a0e-414a-4732-d9c9-65591ee91ade"
      },
      "source": [
        "cr_data[[\"Team\"]].head()"
      ],
      "execution_count": 95,
      "outputs": [
        {
          "output_type": "error",
          "ename": "TypeError",
          "evalue": "ignored",
          "traceback": [
            "\u001b[0;31m---------------------------------------------------------------------------\u001b[0m",
            "\u001b[0;31mTypeError\u001b[0m                                 Traceback (most recent call last)",
            "\u001b[0;32m<ipython-input-95-00add1959504>\u001b[0m in \u001b[0;36m<module>\u001b[0;34m()\u001b[0m\n\u001b[0;32m----> 1\u001b[0;31m \u001b[0mcr_data\u001b[0m\u001b[0;34m[\u001b[0m\u001b[0;34m[\u001b[0m\u001b[0;34m\"Team\"\u001b[0m\u001b[0;34m]\u001b[0m\u001b[0;34m]\u001b[0m\u001b[0;34m.\u001b[0m\u001b[0mhead\u001b[0m\u001b[0;34m(\u001b[0m\u001b[0;34m)\u001b[0m\u001b[0;34m\u001b[0m\u001b[0;34m\u001b[0m\u001b[0m\n\u001b[0m",
            "\u001b[0;31mTypeError\u001b[0m: list indices must be integers or slices, not list"
          ]
        }
      ]
    },
    {
      "cell_type": "code",
      "metadata": {
        "id": "M9-qx2VdfCxt",
        "colab_type": "code",
        "colab": {
          "base_uri": "https://localhost:8080/",
          "height": 163
        },
        "outputId": "dd58133f-b9b5-46c7-9658-f491436a8e97"
      },
      "source": [
        "draft1.dtypes()"
      ],
      "execution_count": 101,
      "outputs": [
        {
          "output_type": "error",
          "ename": "TypeError",
          "evalue": "ignored",
          "traceback": [
            "\u001b[0;31m---------------------------------------------------------------------------\u001b[0m",
            "\u001b[0;31mTypeError\u001b[0m                                 Traceback (most recent call last)",
            "\u001b[0;32m<ipython-input-101-2c3fd5653e9f>\u001b[0m in \u001b[0;36m<module>\u001b[0;34m()\u001b[0m\n\u001b[0;32m----> 1\u001b[0;31m \u001b[0mdraft1\u001b[0m\u001b[0;34m.\u001b[0m\u001b[0mdtypes\u001b[0m\u001b[0;34m(\u001b[0m\u001b[0;34m)\u001b[0m\u001b[0;34m\u001b[0m\u001b[0;34m\u001b[0m\u001b[0m\n\u001b[0m",
            "\u001b[0;31mTypeError\u001b[0m: 'Series' object is not callable"
          ]
        }
      ]
    },
    {
      "cell_type": "code",
      "metadata": {
        "id": "tgzdR2VefShG",
        "colab_type": "code",
        "colab": {
          "base_uri": "https://localhost:8080/",
          "height": 173
        },
        "outputId": "ea4604d5-1088-4e66-c428-27eb3eb16e93"
      },
      "source": [
        "draft1"
      ],
      "execution_count": 102,
      "outputs": [
        {
          "output_type": "execute_result",
          "data": {
            "text/html": [
              "<div>\n",
              "<style scoped>\n",
              "    .dataframe tbody tr th:only-of-type {\n",
              "        vertical-align: middle;\n",
              "    }\n",
              "\n",
              "    .dataframe tbody tr th {\n",
              "        vertical-align: top;\n",
              "    }\n",
              "\n",
              "    .dataframe thead th {\n",
              "        text-align: right;\n",
              "    }\n",
              "</style>\n",
              "<table border=\"1\" class=\"dataframe\">\n",
              "  <thead>\n",
              "    <tr style=\"text-align: right;\">\n",
              "      <th></th>\n",
              "      <th>a1</th>\n",
              "      <th>a2</th>\n",
              "      <th>a3</th>\n",
              "      <th>a4</th>\n",
              "    </tr>\n",
              "  </thead>\n",
              "  <tbody>\n",
              "    <tr>\n",
              "      <th>a</th>\n",
              "      <td>b</td>\n",
              "      <td>c</td>\n",
              "      <td>d</td>\n",
              "      <td>message</td>\n",
              "    </tr>\n",
              "    <tr>\n",
              "      <th>1</th>\n",
              "      <td>2</td>\n",
              "      <td>3</td>\n",
              "      <td>4</td>\n",
              "      <td>hello</td>\n",
              "    </tr>\n",
              "    <tr>\n",
              "      <th>5</th>\n",
              "      <td>6</td>\n",
              "      <td>7</td>\n",
              "      <td>8</td>\n",
              "      <td>world</td>\n",
              "    </tr>\n",
              "    <tr>\n",
              "      <th>9</th>\n",
              "      <td>10</td>\n",
              "      <td>11</td>\n",
              "      <td>12</td>\n",
              "      <td>foo</td>\n",
              "    </tr>\n",
              "  </tbody>\n",
              "</table>\n",
              "</div>"
            ],
            "text/plain": [
              "   a1  a2  a3       a4\n",
              "a   b   c   d  message\n",
              "1   2   3   4    hello\n",
              "5   6   7   8    world\n",
              "9  10  11  12      foo"
            ]
          },
          "metadata": {
            "tags": []
          },
          "execution_count": 102
        }
      ]
    },
    {
      "cell_type": "code",
      "metadata": {
        "id": "dTVNFQiXf7AP",
        "colab_type": "code",
        "colab": {}
      },
      "source": [
        "draft1.to_json('/content/sample.csv')"
      ],
      "execution_count": 0,
      "outputs": []
    },
    {
      "cell_type": "code",
      "metadata": {
        "id": "yDQDDXn-gBkw",
        "colab_type": "code",
        "colab": {}
      },
      "source": [
        "draft1.to_csv('/content/sample.csv', index = False, header=False)"
      ],
      "execution_count": 0,
      "outputs": []
    },
    {
      "cell_type": "code",
      "metadata": {
        "id": "ZW85ZxZkhQ4_",
        "colab_type": "code",
        "colab": {}
      },
      "source": [
        "import sqlite3\n",
        "\n",
        "db = sqlite3.connect(\"my_db1.db\")\n",
        "db.execute(\"drop table if exists test\")\n",
        "query=\"\"\"\n",
        "CREATE TABLE test  (a VARCHAR(20), b VARCHAR(20), c REAL, d INTEGER);\"\"\"\n",
        "con = sqlite3.connect('mydata2.sqlite')\n"
      ],
      "execution_count": 0,
      "outputs": []
    },
    {
      "cell_type": "code",
      "metadata": {
        "id": "PjLq0Wwd5lOQ",
        "colab_type": "code",
        "colab": {
          "base_uri": "https://localhost:8080/",
          "height": 163
        },
        "outputId": "3a37b1d2-46a4-4195-e82e-251405bfe6fc"
      },
      "source": [
        "con.execute(query)"
      ],
      "execution_count": 128,
      "outputs": [
        {
          "output_type": "error",
          "ename": "OperationalError",
          "evalue": "ignored",
          "traceback": [
            "\u001b[0;31m---------------------------------------------------------------------------\u001b[0m",
            "\u001b[0;31mOperationalError\u001b[0m                          Traceback (most recent call last)",
            "\u001b[0;32m<ipython-input-128-3ee84edf4275>\u001b[0m in \u001b[0;36m<module>\u001b[0;34m()\u001b[0m\n\u001b[0;32m----> 1\u001b[0;31m \u001b[0mcon\u001b[0m\u001b[0;34m.\u001b[0m\u001b[0mexecute\u001b[0m\u001b[0;34m(\u001b[0m\u001b[0mquery\u001b[0m\u001b[0;34m)\u001b[0m\u001b[0;34m\u001b[0m\u001b[0;34m\u001b[0m\u001b[0m\n\u001b[0m",
            "\u001b[0;31mOperationalError\u001b[0m: table test already exists"
          ]
        }
      ]
    },
    {
      "cell_type": "code",
      "metadata": {
        "id": "aD_iRMVF6WAu",
        "colab_type": "code",
        "colab": {
          "base_uri": "https://localhost:8080/",
          "height": 34
        },
        "outputId": "de4aaed9-ab59-4814-f194-f0ff0e65f0dd"
      },
      "source": [
        "con.commit"
      ],
      "execution_count": 129,
      "outputs": [
        {
          "output_type": "execute_result",
          "data": {
            "text/plain": [
              "<function Connection.commit>"
            ]
          },
          "metadata": {
            "tags": []
          },
          "execution_count": 129
        }
      ]
    },
    {
      "cell_type": "code",
      "metadata": {
        "id": "KzQiM9Sv6sMH",
        "colab_type": "code",
        "colab": {}
      },
      "source": [
        "data = [('Atlanta', 'Georgia', 1.25, 6)]\n",
        "stmt = \"INSERT INTO test VALUES (?, ?, ?, ?)\"\n",
        "con.executemany(stmt,data)\n",
        "con.commit()"
      ],
      "execution_count": 0,
      "outputs": []
    },
    {
      "cell_type": "code",
      "metadata": {
        "id": "xk7aL4TF7IPI",
        "colab_type": "code",
        "colab": {
          "base_uri": "https://localhost:8080/",
          "height": 34
        },
        "outputId": "df8429a8-ede8-48e7-b145-e967aae9a93a"
      },
      "source": [
        "cursor = con.execute('select * from test')\n",
        "rows = cursor.fetchall()\n",
        "rows"
      ],
      "execution_count": 143,
      "outputs": [
        {
          "output_type": "execute_result",
          "data": {
            "text/plain": [
              "[('Atlanta', 'Georgia', 1.25, 6), ('Atlanta', 'Georgia', 1.25, 6)]"
            ]
          },
          "metadata": {
            "tags": []
          },
          "execution_count": 143
        }
      ]
    },
    {
      "cell_type": "code",
      "metadata": {
        "id": "SHfICfRQ7v8U",
        "colab_type": "code",
        "colab": {
          "base_uri": "https://localhost:8080/",
          "height": 85
        },
        "outputId": "fa7dd9ba-ef58-4803-e98f-868e0685086c"
      },
      "source": [
        "cursor.description"
      ],
      "execution_count": 140,
      "outputs": [
        {
          "output_type": "execute_result",
          "data": {
            "text/plain": [
              "(('a', None, None, None, None, None, None),\n",
              " ('b', None, None, None, None, None, None),\n",
              " ('c', None, None, None, None, None, None),\n",
              " ('d', None, None, None, None, None, None))"
            ]
          },
          "metadata": {
            "tags": []
          },
          "execution_count": 140
        }
      ]
    },
    {
      "cell_type": "code",
      "metadata": {
        "id": "faDxRJ8b8AmH",
        "colab_type": "code",
        "colab": {
          "base_uri": "https://localhost:8080/",
          "height": 80
        },
        "outputId": "63924089-e45a-4b3b-e2da-a52a69ec2580"
      },
      "source": [
        "pd.DataFrame(rows,columns=[x[0] for x in cursor.description])"
      ],
      "execution_count": 136,
      "outputs": [
        {
          "output_type": "execute_result",
          "data": {
            "text/html": [
              "<div>\n",
              "<style scoped>\n",
              "    .dataframe tbody tr th:only-of-type {\n",
              "        vertical-align: middle;\n",
              "    }\n",
              "\n",
              "    .dataframe tbody tr th {\n",
              "        vertical-align: top;\n",
              "    }\n",
              "\n",
              "    .dataframe thead th {\n",
              "        text-align: right;\n",
              "    }\n",
              "</style>\n",
              "<table border=\"1\" class=\"dataframe\">\n",
              "  <thead>\n",
              "    <tr style=\"text-align: right;\">\n",
              "      <th></th>\n",
              "      <th>a</th>\n",
              "      <th>b</th>\n",
              "      <th>c</th>\n",
              "      <th>d</th>\n",
              "    </tr>\n",
              "  </thead>\n",
              "  <tbody>\n",
              "    <tr>\n",
              "      <th>0</th>\n",
              "      <td>Atlanta</td>\n",
              "      <td>Georgia</td>\n",
              "      <td>1.25</td>\n",
              "      <td>6</td>\n",
              "    </tr>\n",
              "  </tbody>\n",
              "</table>\n",
              "</div>"
            ],
            "text/plain": [
              "         a        b     c  d\n",
              "0  Atlanta  Georgia  1.25  6"
            ]
          },
          "metadata": {
            "tags": []
          },
          "execution_count": 136
        }
      ]
    },
    {
      "cell_type": "code",
      "metadata": {
        "id": "ypq6tTeL8WTe",
        "colab_type": "code",
        "colab": {
          "base_uri": "https://localhost:8080/",
          "height": 51
        },
        "outputId": "c0bcff23-733a-48ac-b175-79e286fef032"
      },
      "source": [
        "#results = db.execute(\"select * from test\")\n",
        "for row in rows:\n",
        "  print(row)\n"
      ],
      "execution_count": 144,
      "outputs": [
        {
          "output_type": "stream",
          "text": [
            "('Atlanta', 'Georgia', 1.25, 6)\n",
            "('Atlanta', 'Georgia', 1.25, 6)\n"
          ],
          "name": "stdout"
        }
      ]
    },
    {
      "cell_type": "code",
      "metadata": {
        "id": "9Hyai5JY9ejl",
        "colab_type": "code",
        "colab": {}
      },
      "source": [
        ""
      ],
      "execution_count": 0,
      "outputs": []
    }
  ]
}