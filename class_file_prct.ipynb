{
  "nbformat": 4,
  "nbformat_minor": 0,
  "metadata": {
    "colab": {
      "name": "Colab's New Code Editor",
      "provenance": [],
      "collapsed_sections": [],
      "include_colab_link": true
    },
    "kernelspec": {
      "display_name": "Python 3",
      "name": "python3"
    }
  },
  "cells": [
    {
      "cell_type": "markdown",
      "metadata": {
        "id": "view-in-github",
        "colab_type": "text"
      },
      "source": [
        "<a href=\"https://colab.research.google.com/github/maheshvmv/python/blob/master/class_file_prct.ipynb\" target=\"_parent\"><img src=\"https://colab.research.google.com/assets/colab-badge.svg\" alt=\"Open In Colab\"/></a>"
      ]
    },
    {
      "cell_type": "code",
      "metadata": {
        "id": "jXXkI7w2EnRb",
        "colab_type": "code",
        "colab": {
          "base_uri": "https://localhost:8080/",
          "height": 34
        },
        "outputId": "e1f9acae-6dfb-40b5-9d0b-51e2185ff902"
      },
      "source": [
        "l1 = [1,2,3]\n",
        "l2 = [4,5,6]\n",
        "res=map(lambda x, y : x + y, l1,l2)\n",
        "print(list(res))"
      ],
      "execution_count": 1,
      "outputs": [
        {
          "output_type": "stream",
          "text": [
            "[5, 7, 9]\n"
          ],
          "name": "stdout"
        }
      ]
    },
    {
      "cell_type": "code",
      "metadata": {
        "id": "MWFU2oCqo2At",
        "colab_type": "code",
        "colab": {}
      },
      "source": [
        "del list"
      ],
      "execution_count": 0,
      "outputs": []
    },
    {
      "cell_type": "code",
      "metadata": {
        "id": "sKgJq4GEEn4Z",
        "colab_type": "code",
        "colab": {
          "base_uri": "https://localhost:8080/",
          "height": 34
        },
        "outputId": "a024719e-cf30-4257-bd47-3282537db932"
      },
      "source": [
        "lst = [1,2,3,4,5]\n",
        "reduce(lambda x,y :x+y, lst)"
      ],
      "execution_count": 145,
      "outputs": [
        {
          "output_type": "execute_result",
          "data": {
            "text/plain": [
              "15"
            ]
          },
          "metadata": {
            "tags": []
          },
          "execution_count": 145
        }
      ]
    },
    {
      "cell_type": "code",
      "metadata": {
        "id": "SczcHNiIhUZ5",
        "colab_type": "code",
        "colab": {}
      },
      "source": [
        "class person:\n",
        "  pass"
      ],
      "execution_count": 0,
      "outputs": []
    },
    {
      "cell_type": "code",
      "metadata": {
        "id": "9T9MvZdReaf4",
        "colab_type": "code",
        "colab": {
          "base_uri": "https://localhost:8080/",
          "height": 51
        },
        "outputId": "3673e963-3c15-48ed-84b6-c1de51efede4"
      },
      "source": [
        "per = person()\n",
        "per.name = 'Mahesh'\n",
        "per.surname = 'Vegiraju'\n",
        "per.year = 1989\n",
        "\n",
        "print(per)\n",
        "print((per.name,per.surname,per.year))"
      ],
      "execution_count": 8,
      "outputs": [
        {
          "output_type": "stream",
          "text": [
            "<__main__.person object at 0x7f5911b2c278>\n",
            "('Mahesh', 'Vegiraju', 1989)\n"
          ],
          "name": "stdout"
        }
      ]
    },
    {
      "cell_type": "code",
      "metadata": {
        "id": "ztU6uBENfWh6",
        "colab_type": "code",
        "colab": {
          "base_uri": "https://localhost:8080/",
          "height": 34
        },
        "outputId": "af4b881d-4a35-4eb9-9c48-b848a92b4497"
      },
      "source": [
        "class person:\n",
        "  def __init__(self,name,surname,year):\n",
        "    self.name = name\n",
        "    self.surname = surname\n",
        "    self.year = year\n",
        "\n",
        "alec = person(\"alec\",\"John\",1988)\n",
        "print(alec)"
      ],
      "execution_count": 10,
      "outputs": [
        {
          "output_type": "stream",
          "text": [
            "<__main__.person object at 0x7f5911adc160>\n"
          ],
          "name": "stdout"
        }
      ]
    },
    {
      "cell_type": "code",
      "metadata": {
        "id": "LaA-_7DpgvlC",
        "colab_type": "code",
        "colab": {
          "base_uri": "https://localhost:8080/",
          "height": 34
        },
        "outputId": "179f3318-a4cf-43ef-b7a3-01a2a4e4873b"
      },
      "source": [
        "alec = person(\"alec\",\"John\",1988)\n",
        "print(alec.surname)"
      ],
      "execution_count": 12,
      "outputs": [
        {
          "output_type": "stream",
          "text": [
            "John\n"
          ],
          "name": "stdout"
        }
      ]
    },
    {
      "cell_type": "code",
      "metadata": {
        "id": "N9EaE-I2kZM8",
        "colab_type": "code",
        "colab": {}
      },
      "source": [
        "class person:\n",
        "  def __init__(self,name,surname,year):\n",
        "    self.name = name\n",
        "    self.surname = surname\n",
        "    self.year = year\n",
        "  \n",
        "  def age(a,year):\n",
        "    return year - a.year\n",
        "\n",
        "  def __str__(a):\n",
        "    return \"%s %s born in the year %d\" % (a.name,a.surname,a.year)\n",
        "\n",
        "\n"
      ],
      "execution_count": 0,
      "outputs": []
    },
    {
      "cell_type": "code",
      "metadata": {
        "id": "9D3do1tnp5ZR",
        "colab_type": "code",
        "colab": {
          "base_uri": "https://localhost:8080/",
          "height": 34
        },
        "outputId": "28167871-df0b-4d64-8ef8-a836fbbf2de0"
      },
      "source": [
        "alec = person(\"alec\",\"John\",1987)\n",
        "print(alec)"
      ],
      "execution_count": 26,
      "outputs": [
        {
          "output_type": "stream",
          "text": [
            "alec John born in the year 1987\n"
          ],
          "name": "stdout"
        }
      ]
    },
    {
      "cell_type": "code",
      "metadata": {
        "id": "a6oNUq5_qAPG",
        "colab_type": "code",
        "colab": {
          "base_uri": "https://localhost:8080/",
          "height": 34
        },
        "outputId": "bd3d74df-b928-4450-8001-b1122eb0f865"
      },
      "source": [
        "print(alec.age(2019))"
      ],
      "execution_count": 27,
      "outputs": [
        {
          "output_type": "stream",
          "text": [
            "32\n"
          ],
          "name": "stdout"
        }
      ]
    },
    {
      "cell_type": "markdown",
      "metadata": {
        "id": "dVQ5Bfx03lwl",
        "colab_type": "text"
      },
      "source": [
        "**Inheritance :**"
      ]
    },
    {
      "cell_type": "code",
      "metadata": {
        "id": "Iar6iI5UqWcs",
        "colab_type": "code",
        "colab": {}
      },
      "source": [
        "class student(person):\n",
        "  def __init__(self,stid,*args):\n",
        "    super(student,self).__init__(*args)\n",
        "    self._stid = stid\n",
        "\n",
        "charles = student(1,'charlie','brown',1989)\n"
      ],
      "execution_count": 0,
      "outputs": []
    },
    {
      "cell_type": "code",
      "metadata": {
        "id": "OGQNX1vwz3y_",
        "colab_type": "code",
        "colab": {
          "base_uri": "https://localhost:8080/",
          "height": 34
        },
        "outputId": "7108d5cd-8ed2-4392-e61b-16557feed093"
      },
      "source": [
        "print(charles.name)"
      ],
      "execution_count": 30,
      "outputs": [
        {
          "output_type": "stream",
          "text": [
            "charlie\n"
          ],
          "name": "stdout"
        }
      ]
    },
    {
      "cell_type": "code",
      "metadata": {
        "id": "XuHumhlL0DpM",
        "colab_type": "code",
        "colab": {
          "base_uri": "https://localhost:8080/",
          "height": 68
        },
        "outputId": "47e37c8e-d1f9-4659-afb6-b49b7fa25230"
      },
      "source": [
        "print(type(charles))\n",
        "print(isinstance(charles,person))\n",
        "print(isinstance(charles,object))"
      ],
      "execution_count": 33,
      "outputs": [
        {
          "output_type": "stream",
          "text": [
            "<class '__main__.student'>\n",
            "True\n",
            "True\n"
          ],
          "name": "stdout"
        }
      ]
    },
    {
      "cell_type": "markdown",
      "metadata": {
        "id": "Z6ZZg2tw3srs",
        "colab_type": "text"
      },
      "source": [
        "**Override methods :**\n"
      ]
    },
    {
      "cell_type": "code",
      "metadata": {
        "id": "U9smk5sa1gwR",
        "colab_type": "code",
        "colab": {
          "base_uri": "https://localhost:8080/",
          "height": 34
        },
        "outputId": "ba260ee0-645a-4423-cd87-4afa84a843da"
      },
      "source": [
        "class student(person):\n",
        "  def __init__(self,stid,*args, **kwargs):\n",
        "    super(student,self).__init__(*args, **kwargs)\n",
        "    self._stid = stid\n",
        "\n",
        "  def __str__(self):\n",
        "    return super(student,self).__str__()+\" And has ID: %d\" %self._stid\n",
        "\n",
        "ch = student(1,'charlie','brown',1989)\n",
        "print(ch)\n"
      ],
      "execution_count": 35,
      "outputs": [
        {
          "output_type": "stream",
          "text": [
            "charlie brown born in the year 1989 And has ID: 1\n"
          ],
          "name": "stdout"
        }
      ]
    },
    {
      "cell_type": "markdown",
      "metadata": {
        "id": "HOW_nKgt32Nk",
        "colab_type": "text"
      },
      "source": [
        "**Encapsulation**"
      ]
    },
    {
      "cell_type": "code",
      "metadata": {
        "id": "lofPcV-y3XVd",
        "colab_type": "code",
        "colab": {}
      },
      "source": [
        ""
      ],
      "execution_count": 0,
      "outputs": []
    },
    {
      "cell_type": "markdown",
      "metadata": {
        "id": "SJjmJ08-Zwki",
        "colab_type": "text"
      },
      "source": [
        "**Files**"
      ]
    },
    {
      "cell_type": "code",
      "metadata": {
        "id": "bjkvMNSxZpjB",
        "colab_type": "code",
        "colab": {
          "base_uri": "https://localhost:8080/",
          "height": 34
        },
        "outputId": "76a5af5b-b7f0-4559-a493-d2691650b41b"
      },
      "source": [
        "%%writefile test.txt\n",
        "Hello, this is new file"
      ],
      "execution_count": 1,
      "outputs": [
        {
          "output_type": "stream",
          "text": [
            "Writing test.txt\n"
          ],
          "name": "stdout"
        }
      ]
    },
    {
      "cell_type": "code",
      "metadata": {
        "id": "BUm8XC8YaDs6",
        "colab_type": "code",
        "colab": {
          "base_uri": "https://localhost:8080/",
          "height": 34
        },
        "outputId": "6a812009-b2ac-4dba-ab2c-e056ee17874c"
      },
      "source": [
        "pwd"
      ],
      "execution_count": 2,
      "outputs": [
        {
          "output_type": "execute_result",
          "data": {
            "text/plain": [
              "'/content'"
            ]
          },
          "metadata": {
            "tags": []
          },
          "execution_count": 2
        }
      ]
    },
    {
      "cell_type": "code",
      "metadata": {
        "id": "vSfayHSGaKBr",
        "colab_type": "code",
        "colab": {}
      },
      "source": [
        "my_file = open('/content/test.txt')"
      ],
      "execution_count": 0,
      "outputs": []
    },
    {
      "cell_type": "code",
      "metadata": {
        "id": "Kx_q484earTm",
        "colab_type": "code",
        "colab": {
          "base_uri": "https://localhost:8080/",
          "height": 34
        },
        "outputId": "a907b68e-338f-47f5-a898-e34a4786cca6"
      },
      "source": [
        "my_file.read()"
      ],
      "execution_count": 39,
      "outputs": [
        {
          "output_type": "execute_result",
          "data": {
            "text/plain": [
              "'\\n adding new line\\n adding new line'"
            ]
          },
          "metadata": {
            "tags": []
          },
          "execution_count": 39
        }
      ]
    },
    {
      "cell_type": "code",
      "metadata": {
        "id": "KGbBivXCavec",
        "colab_type": "code",
        "colab": {
          "base_uri": "https://localhost:8080/",
          "height": 34
        },
        "outputId": "084ec155-a416-42f5-edf5-57860a2bfe5e"
      },
      "source": [
        "len(my_file.read())"
      ],
      "execution_count": 17,
      "outputs": [
        {
          "output_type": "execute_result",
          "data": {
            "text/plain": [
              "23"
            ]
          },
          "metadata": {
            "tags": []
          },
          "execution_count": 17
        }
      ]
    },
    {
      "cell_type": "code",
      "metadata": {
        "id": "8IpM1jYZa_8d",
        "colab_type": "code",
        "colab": {
          "base_uri": "https://localhost:8080/",
          "height": 34
        },
        "outputId": "67096d6d-372a-4d2b-ce20-93b1e21f4940"
      },
      "source": [
        "my_file.seek(0)"
      ],
      "execution_count": 29,
      "outputs": [
        {
          "output_type": "execute_result",
          "data": {
            "text/plain": [
              "0"
            ]
          },
          "metadata": {
            "tags": []
          },
          "execution_count": 29
        }
      ]
    },
    {
      "cell_type": "code",
      "metadata": {
        "id": "Q2FyXBaFbL-L",
        "colab_type": "code",
        "colab": {
          "base_uri": "https://localhost:8080/",
          "height": 34
        },
        "outputId": "0d93d492-baea-46dd-e582-501e4d046f55"
      },
      "source": [
        "my_file.readlines()"
      ],
      "execution_count": 23,
      "outputs": [
        {
          "output_type": "execute_result",
          "data": {
            "text/plain": [
              "['Hello, this is new file']"
            ]
          },
          "metadata": {
            "tags": []
          },
          "execution_count": 23
        }
      ]
    },
    {
      "cell_type": "code",
      "metadata": {
        "id": "QL-1Wd2AbdOZ",
        "colab_type": "code",
        "colab": {}
      },
      "source": [
        "my_file = open('test.txt','a')"
      ],
      "execution_count": 0,
      "outputs": []
    },
    {
      "cell_type": "code",
      "metadata": {
        "id": "ir6N-1Thbuc3",
        "colab_type": "code",
        "colab": {
          "base_uri": "https://localhost:8080/",
          "height": 34
        },
        "outputId": "85242481-6bc2-4458-95ec-0206cb1bf3db"
      },
      "source": [
        "my_file.write('\\n adding new line')"
      ],
      "execution_count": 48,
      "outputs": [
        {
          "output_type": "execute_result",
          "data": {
            "text/plain": [
              "17"
            ]
          },
          "metadata": {
            "tags": []
          },
          "execution_count": 48
        }
      ]
    },
    {
      "cell_type": "code",
      "metadata": {
        "id": "gnBPw9v5b3sZ",
        "colab_type": "code",
        "colab": {
          "base_uri": "https://localhost:8080/",
          "height": 34
        },
        "outputId": "22033424-3c73-4b39-e6df-790eedaf95cc"
      },
      "source": [
        "%%writefile test.txt\n",
        "First Line\n",
        "Second Line"
      ],
      "execution_count": 40,
      "outputs": [
        {
          "output_type": "stream",
          "text": [
            "Overwriting test.txt\n"
          ],
          "name": "stdout"
        }
      ]
    },
    {
      "cell_type": "code",
      "metadata": {
        "id": "2i3crCzIceR1",
        "colab_type": "code",
        "colab": {
          "base_uri": "https://localhost:8080/",
          "height": 34
        },
        "outputId": "22914c58-c1e1-4ac2-8c68-c266569bc9b7"
      },
      "source": [
        "my_file.read()"
      ],
      "execution_count": 45,
      "outputs": [
        {
          "output_type": "execute_result",
          "data": {
            "text/plain": [
              "'First Line\\nSecond Line'"
            ]
          },
          "metadata": {
            "tags": []
          },
          "execution_count": 45
        }
      ]
    },
    {
      "cell_type": "code",
      "metadata": {
        "id": "OJf_dVj-ciVy",
        "colab_type": "code",
        "colab": {
          "base_uri": "https://localhost:8080/",
          "height": 68
        },
        "outputId": "44d9614e-50bc-4bf2-eb0a-8dcf3814a262"
      },
      "source": [
        "for line in open('test.txt'):\n",
        "  print(line)\n"
      ],
      "execution_count": 46,
      "outputs": [
        {
          "output_type": "stream",
          "text": [
            "First Line\n",
            "\n",
            "Second Line\n"
          ],
          "name": "stdout"
        }
      ]
    },
    {
      "cell_type": "code",
      "metadata": {
        "id": "f5VVyBFwc0nh",
        "colab_type": "code",
        "colab": {}
      },
      "source": [
        "from io import StringIO\n"
      ],
      "execution_count": 0,
      "outputs": []
    },
    {
      "cell_type": "code",
      "metadata": {
        "id": "Q-JSPC5ReKF8",
        "colab_type": "code",
        "colab": {}
      },
      "source": [
        "message='this is juest a string'"
      ],
      "execution_count": 0,
      "outputs": []
    },
    {
      "cell_type": "code",
      "metadata": {
        "id": "ek2mUcuVeTY_",
        "colab_type": "code",
        "colab": {}
      },
      "source": [
        "f = StringIO(message)"
      ],
      "execution_count": 0,
      "outputs": []
    },
    {
      "cell_type": "code",
      "metadata": {
        "id": "p2ZRecw0eYXs",
        "colab_type": "code",
        "colab": {
          "base_uri": "https://localhost:8080/",
          "height": 34
        },
        "outputId": "2914f3c6-8f9f-4754-9a28-8c85ec6e3f40"
      },
      "source": [
        "f.read()"
      ],
      "execution_count": 59,
      "outputs": [
        {
          "output_type": "execute_result",
          "data": {
            "text/plain": [
              "'this is juest a string'"
            ]
          },
          "metadata": {
            "tags": []
          },
          "execution_count": 59
        }
      ]
    },
    {
      "cell_type": "code",
      "metadata": {
        "id": "ZfbaNLwdeZ4_",
        "colab_type": "code",
        "colab": {
          "base_uri": "https://localhost:8080/",
          "height": 34
        },
        "outputId": "4280ea87-2cec-413c-bd78-744aa1f39eb4"
      },
      "source": [
        "f.seek(0)"
      ],
      "execution_count": 58,
      "outputs": [
        {
          "output_type": "execute_result",
          "data": {
            "text/plain": [
              "0"
            ]
          },
          "metadata": {
            "tags": []
          },
          "execution_count": 58
        }
      ]
    },
    {
      "cell_type": "code",
      "metadata": {
        "id": "nHY77cCYefEX",
        "colab_type": "code",
        "colab": {}
      },
      "source": [
        ""
      ],
      "execution_count": 0,
      "outputs": []
    }
  ]
}