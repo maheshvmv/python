{
  "nbformat": 4,
  "nbformat_minor": 0,
  "metadata": {
    "colab": {
      "name": "Colab's New Code Editor",
      "provenance": [],
      "collapsed_sections": [],
      "include_colab_link": true
    },
    "kernelspec": {
      "display_name": "Python 3",
      "name": "python3"
    }
  },
  "cells": [
    {
      "cell_type": "markdown",
      "metadata": {
        "id": "view-in-github",
        "colab_type": "text"
      },
      "source": [
        "<a href=\"https://colab.research.google.com/github/maheshvmv/python/blob/master/class_file_prct.ipynb\" target=\"_parent\"><img src=\"https://colab.research.google.com/assets/colab-badge.svg\" alt=\"Open In Colab\"/></a>"
      ]
    },
    {
      "cell_type": "code",
      "metadata": {
        "id": "jXXkI7w2EnRb",
        "colab_type": "code",
        "colab": {
          "base_uri": "https://localhost:8080/",
          "height": 34
        },
        "outputId": "e1f9acae-6dfb-40b5-9d0b-51e2185ff902"
      },
      "source": [
        "l1 = [1,2,3]\n",
        "l2 = [4,5,6]\n",
        "res=map(lambda x, y : x + y, l1,l2)\n",
        "print(list(res))"
      ],
      "execution_count": 1,
      "outputs": [
        {
          "output_type": "stream",
          "text": [
            "[5, 7, 9]\n"
          ],
          "name": "stdout"
        }
      ]
    },
    {
      "cell_type": "code",
      "metadata": {
        "id": "MWFU2oCqo2At",
        "colab_type": "code",
        "colab": {}
      },
      "source": [
        "del list"
      ],
      "execution_count": 0,
      "outputs": []
    },
    {
      "cell_type": "code",
      "metadata": {
        "id": "sKgJq4GEEn4Z",
        "colab_type": "code",
        "colab": {
          "base_uri": "https://localhost:8080/",
          "height": 34
        },
        "outputId": "a024719e-cf30-4257-bd47-3282537db932"
      },
      "source": [
        "lst = [1,2,3,4,5]\n",
        "reduce(lambda x,y :x+y, lst)"
      ],
      "execution_count": 145,
      "outputs": [
        {
          "output_type": "execute_result",
          "data": {
            "text/plain": [
              "15"
            ]
          },
          "metadata": {
            "tags": []
          },
          "execution_count": 145
        }
      ]
    },
    {
      "cell_type": "code",
      "metadata": {
        "id": "SczcHNiIhUZ5",
        "colab_type": "code",
        "colab": {}
      },
      "source": [
        "class person:\n",
        "  pass"
      ],
      "execution_count": 0,
      "outputs": []
    },
    {
      "cell_type": "code",
      "metadata": {
        "id": "9T9MvZdReaf4",
        "colab_type": "code",
        "colab": {
          "base_uri": "https://localhost:8080/",
          "height": 51
        },
        "outputId": "3673e963-3c15-48ed-84b6-c1de51efede4"
      },
      "source": [
        "per = person()\n",
        "per.name = 'Mahesh'\n",
        "per.surname = 'Vegiraju'\n",
        "per.year = 1989\n",
        "\n",
        "print(per)\n",
        "print((per.name,per.surname,per.year))"
      ],
      "execution_count": 8,
      "outputs": [
        {
          "output_type": "stream",
          "text": [
            "<__main__.person object at 0x7f5911b2c278>\n",
            "('Mahesh', 'Vegiraju', 1989)\n"
          ],
          "name": "stdout"
        }
      ]
    },
    {
      "cell_type": "code",
      "metadata": {
        "id": "ztU6uBENfWh6",
        "colab_type": "code",
        "colab": {
          "base_uri": "https://localhost:8080/",
          "height": 34
        },
        "outputId": "af4b881d-4a35-4eb9-9c48-b848a92b4497"
      },
      "source": [
        "class person:\n",
        "  def __init__(self,name,surname,year):\n",
        "    self.name = name\n",
        "    self.surname = surname\n",
        "    self.year = year\n",
        "\n",
        "alec = person(\"alec\",\"John\",1988)\n",
        "print(alec)"
      ],
      "execution_count": 10,
      "outputs": [
        {
          "output_type": "stream",
          "text": [
            "<__main__.person object at 0x7f5911adc160>\n"
          ],
          "name": "stdout"
        }
      ]
    },
    {
      "cell_type": "code",
      "metadata": {
        "id": "LaA-_7DpgvlC",
        "colab_type": "code",
        "colab": {
          "base_uri": "https://localhost:8080/",
          "height": 34
        },
        "outputId": "179f3318-a4cf-43ef-b7a3-01a2a4e4873b"
      },
      "source": [
        "alec = person(\"alec\",\"John\",1988)\n",
        "print(alec.surname)"
      ],
      "execution_count": 12,
      "outputs": [
        {
          "output_type": "stream",
          "text": [
            "John\n"
          ],
          "name": "stdout"
        }
      ]
    },
    {
      "cell_type": "code",
      "metadata": {
        "id": "N9EaE-I2kZM8",
        "colab_type": "code",
        "colab": {}
      },
      "source": [
        "class person:\n",
        "  def __init__(self,name,surname,year):\n",
        "    self.name = name\n",
        "    self.surname = surname\n",
        "    self.year = year\n",
        "  \n",
        "  def age(a,year):\n",
        "    return year - a.year\n",
        "\n",
        "  def __str__(a):\n",
        "    return \"%s %s born in the year %d\" % (a.name,a.surname,a.year)\n",
        "\n",
        "\n"
      ],
      "execution_count": 0,
      "outputs": []
    },
    {
      "cell_type": "code",
      "metadata": {
        "id": "9D3do1tnp5ZR",
        "colab_type": "code",
        "colab": {
          "base_uri": "https://localhost:8080/",
          "height": 34
        },
        "outputId": "28167871-df0b-4d64-8ef8-a836fbbf2de0"
      },
      "source": [
        "alec = person(\"alec\",\"John\",1987)\n",
        "print(alec)"
      ],
      "execution_count": 26,
      "outputs": [
        {
          "output_type": "stream",
          "text": [
            "alec John born in the year 1987\n"
          ],
          "name": "stdout"
        }
      ]
    },
    {
      "cell_type": "code",
      "metadata": {
        "id": "a6oNUq5_qAPG",
        "colab_type": "code",
        "colab": {
          "base_uri": "https://localhost:8080/",
          "height": 34
        },
        "outputId": "bd3d74df-b928-4450-8001-b1122eb0f865"
      },
      "source": [
        "print(alec.age(2019))"
      ],
      "execution_count": 27,
      "outputs": [
        {
          "output_type": "stream",
          "text": [
            "32\n"
          ],
          "name": "stdout"
        }
      ]
    },
    {
      "cell_type": "markdown",
      "metadata": {
        "id": "dVQ5Bfx03lwl",
        "colab_type": "text"
      },
      "source": [
        "**Inheritance :**"
      ]
    },
    {
      "cell_type": "code",
      "metadata": {
        "id": "Iar6iI5UqWcs",
        "colab_type": "code",
        "colab": {}
      },
      "source": [
        "class student(person):\n",
        "  def __init__(self,stid,*args):\n",
        "    super(student,self).__init__(*args)\n",
        "    self._stid = stid\n",
        "\n",
        "charles = student(1,'charlie','brown',1989)\n"
      ],
      "execution_count": 0,
      "outputs": []
    },
    {
      "cell_type": "code",
      "metadata": {
        "id": "OGQNX1vwz3y_",
        "colab_type": "code",
        "colab": {
          "base_uri": "https://localhost:8080/",
          "height": 34
        },
        "outputId": "7108d5cd-8ed2-4392-e61b-16557feed093"
      },
      "source": [
        "print(charles.name)"
      ],
      "execution_count": 30,
      "outputs": [
        {
          "output_type": "stream",
          "text": [
            "charlie\n"
          ],
          "name": "stdout"
        }
      ]
    },
    {
      "cell_type": "code",
      "metadata": {
        "id": "XuHumhlL0DpM",
        "colab_type": "code",
        "colab": {
          "base_uri": "https://localhost:8080/",
          "height": 68
        },
        "outputId": "47e37c8e-d1f9-4659-afb6-b49b7fa25230"
      },
      "source": [
        "print(type(charles))\n",
        "print(isinstance(charles,person))\n",
        "print(isinstance(charles,object))"
      ],
      "execution_count": 33,
      "outputs": [
        {
          "output_type": "stream",
          "text": [
            "<class '__main__.student'>\n",
            "True\n",
            "True\n"
          ],
          "name": "stdout"
        }
      ]
    },
    {
      "cell_type": "markdown",
      "metadata": {
        "id": "Z6ZZg2tw3srs",
        "colab_type": "text"
      },
      "source": [
        "**Override methods :**\n"
      ]
    },
    {
      "cell_type": "code",
      "metadata": {
        "id": "U9smk5sa1gwR",
        "colab_type": "code",
        "colab": {
          "base_uri": "https://localhost:8080/",
          "height": 34
        },
        "outputId": "ba260ee0-645a-4423-cd87-4afa84a843da"
      },
      "source": [
        "class student(person):\n",
        "  def __init__(self,stid,*args, **kwargs):\n",
        "    super(student,self).__init__(*args, **kwargs)\n",
        "    self._stid = stid\n",
        "\n",
        "  def __str__(self):\n",
        "    return super(student,self).__str__()+\" And has ID: %d\" %self._stid\n",
        "\n",
        "ch = student(1,'charlie','brown',1989)\n",
        "print(ch)\n"
      ],
      "execution_count": 35,
      "outputs": [
        {
          "output_type": "stream",
          "text": [
            "charlie brown born in the year 1989 And has ID: 1\n"
          ],
          "name": "stdout"
        }
      ]
    },
    {
      "cell_type": "markdown",
      "metadata": {
        "id": "HOW_nKgt32Nk",
        "colab_type": "text"
      },
      "source": [
        "**Encapsulation**"
      ]
    },
    {
      "cell_type": "code",
      "metadata": {
        "id": "lofPcV-y3XVd",
        "colab_type": "code",
        "colab": {}
      },
      "source": [
        ""
      ],
      "execution_count": 0,
      "outputs": []
    }
  ]
}